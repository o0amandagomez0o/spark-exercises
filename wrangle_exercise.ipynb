{
 "cells": [
  {
   "cell_type": "markdown",
   "metadata": {},
   "source": [
    "# Wrangle Exercises"
   ]
  },
  {
   "cell_type": "code",
   "execution_count": 1,
   "metadata": {},
   "outputs": [],
   "source": [
    "import pyspark\n",
    "from pyspark.sql.functions import *\n",
    "\n",
    "spark = pyspark.sql.SparkSession.builder.getOrCreate()"
   ]
  },
  {
   "cell_type": "markdown",
   "metadata": {},
   "source": [
    "## Data Prep"
   ]
  },
  {
   "cell_type": "code",
   "execution_count": 13,
   "metadata": {},
   "outputs": [
    {
     "name": "stdout",
     "output_type": "stream",
     "text": [
      "nrows: 841704\n",
      "stray animal cases: 26760\n"
     ]
    }
   ],
   "source": [
    "df = case = spark.read.csv('data/case.csv', header=True, inferSchema=True)\n",
    "print('nrows:', df.count())\n",
    "stray_animal_cases = df.filter(df.service_request_type == 'Stray Animal').count()\n",
    "print('stray animal cases:', stray_animal_cases)"
   ]
  },
  {
   "cell_type": "code",
   "execution_count": 26,
   "metadata": {},
   "outputs": [],
   "source": [
    "# Rename column\n",
    "df = df.withColumnRenamed('SLA_due_date', 'case_due_date')\n",
    "\n",
    "# Convert to better data types\n",
    "df = (\n",
    "    df.withColumn('case_late', col('case_late') == 'YES')\n",
    "    .withColumn('case_closed', col('case_closed') == 'YES')\n",
    ")\n",
    "df = df.withColumn('council_district', format_string('%04d', col('council_district')))\n",
    "df = (\n",
    "    df.withColumn('case_opened_date', to_timestamp(col('case_opened_date'), 'M/d/yy H:mm'))\n",
    "    .withColumn('case_closed_date', to_timestamp(col('case_closed_date'), 'M/d/yy H:mm'))\n",
    "    .withColumn('case_due_date', to_timestamp(col('case_due_date'), 'M/d/yy H:mm'))\n",
    ")\n",
    "\n",
    "# Cleanup text data\n",
    "df = df.withColumn('request_address', lower(trim(col('request_address'))))\n",
    "# Extract zipcode\n",
    "df = df.withColumn('zipcode', regexp_extract(col('request_address'), r'\\d+$', 0))\n",
    "\n",
    "# Create a `case_lifetime` feature\n",
    "df = (\n",
    "    df.withColumn('case_age', datediff(current_timestamp(), 'case_opened_date'))\n",
    "    .withColumn('days_to_closed', datediff('case_closed_date', 'case_opened_date'))\n",
    "    .withColumn('case_lifetime', when(col('case_closed'), col('days_to_closed')).otherwise(col('case_age')))\n",
    "    .drop('case_age', 'days_to_closed')\n",
    ")\n",
    "\n",
    "# Join departments and sources\n",
    "depts = spark.read.csv('data/dept.csv', header=True, inferSchema=True)\n",
    "sources = spark.read.csv('data/source.csv', header=True, inferSchema=True)\n",
    "\n",
    "df = df.join(depts, 'dept_division', 'left').join(sources, 'source_id', 'left')\n",
    "\n",
    "# # Train Test Split\n",
    "# train, test = df.randomSplit([.8, .2], seed=123)\n",
    "# train, validate, test = df.randomSplit([.7, .15, .15], seed=123)"
   ]
  },
  {
   "cell_type": "code",
   "execution_count": 4,
   "metadata": {},
   "outputs": [
    {
     "data": {
      "text/plain": [
       "855269"
      ]
     },
     "execution_count": 4,
     "metadata": {},
     "output_type": "execute_result"
    }
   ],
   "source": [
    "df.count()"
   ]
  },
  {
   "cell_type": "markdown",
   "metadata": {},
   "source": [
    "In case we want to query our dataframe with Spark SQL:"
   ]
  },
  {
   "cell_type": "code",
   "execution_count": 5,
   "metadata": {},
   "outputs": [],
   "source": [
    "df.createOrReplaceTempView('df')"
   ]
  },
  {
   "cell_type": "markdown",
   "metadata": {},
   "source": [
    "## Initial Exploration Questions"
   ]
  },
  {
   "cell_type": "code",
   "execution_count": 6,
   "metadata": {},
   "outputs": [
    {
     "name": "stdout",
     "output_type": "stream",
     "text": [
      "+-------------+\n",
      "|days_past_due|\n",
      "+-------------+\n",
      "|         1414|\n",
      "|         1414|\n",
      "|         1414|\n",
      "|         1413|\n",
      "|         1411|\n",
      "|         1407|\n",
      "|         1407|\n",
      "|         1406|\n",
      "|         1405|\n",
      "|         1405|\n",
      "|         1401|\n",
      "|         1400|\n",
      "|         1400|\n",
      "|         1400|\n",
      "|         1397|\n",
      "+-------------+\n",
      "\n"
     ]
    }
   ],
   "source": [
    "# How old is the latest (in terms of days past SLA) currently open issue?\n",
    "# How long has the oldest (in terms of days since opened) currently opened issue been open?\n",
    "spark.sql('''\n",
    "SELECT DATEDIFF(current_timestamp, case_due_date) AS days_past_due\n",
    "FROM df\n",
    "WHERE NOT case_closed\n",
    "ORDER BY days_past_due DESC\n",
    "LIMIT 15\n",
    "''').show()"
   ]
  },
  {
   "cell_type": "code",
   "execution_count": 7,
   "metadata": {},
   "outputs": [
    {
     "data": {
      "text/plain": [
       "27361"
      ]
     },
     "execution_count": 7,
     "metadata": {},
     "output_type": "execute_result"
    }
   ],
   "source": [
    "# How many Stray Animal cases are there?\n",
    "df.filter(df.service_request_type == 'Stray Animal').count()"
   ]
  },
  {
   "cell_type": "markdown",
   "metadata": {},
   "source": [
    "26760?"
   ]
  },
  {
   "cell_type": "code",
   "execution_count": 8,
   "metadata": {},
   "outputs": [
    {
     "name": "stdout",
     "output_type": "stream",
     "text": [
      "+--------------------+-----+\n",
      "|service_request_type|count|\n",
      "+--------------------+-----+\n",
      "|        Stray Animal|27361|\n",
      "+--------------------+-----+\n",
      "\n"
     ]
    }
   ],
   "source": [
    "(\n",
    "    df.groupBy('service_request_type')\n",
    "    .count()\n",
    "    .filter(expr('service_request_type == \"Stray Animal\"'))\n",
    "    .show()\n",
    ")"
   ]
  },
  {
   "cell_type": "code",
   "execution_count": 9,
   "metadata": {},
   "outputs": [
    {
     "data": {
      "text/plain": [
       "116295"
      ]
     },
     "execution_count": 9,
     "metadata": {},
     "output_type": "execute_result"
    }
   ],
   "source": [
    "# How many service requests that are assigned to the Field Operations department (dept_division)\n",
    "# are not classified as \"Officer Standby\" request type (service_request_type)?\n",
    "(\n",
    "    df.filter(df.dept_division == 'Field Operations')\n",
    "    .filter(df.service_request_type != 'Officer Standby')\n",
    "    .count()\n",
    ")"
   ]
  },
  {
   "cell_type": "code",
   "execution_count": 10,
   "metadata": {},
   "outputs": [
    {
     "data": {
      "text/plain": [
       "116295"
      ]
     },
     "execution_count": 10,
     "metadata": {},
     "output_type": "execute_result"
    }
   ],
   "source": [
    "# Another way to do it\n",
    "(\n",
    "    df.filter(expr(\"dept_division == 'Field Operations'\"))\n",
    "    .filter(expr('service_request_type != \"Officer Standby\"'))\n",
    "    .count()\n",
    ")"
   ]
  },
  {
   "cell_type": "code",
   "execution_count": null,
   "metadata": {},
   "outputs": [],
   "source": [
    "# Convert the council_district column to a string column.\n",
    "\n",
    "# Already done in the data prep"
   ]
  },
  {
   "cell_type": "code",
   "execution_count": 11,
   "metadata": {},
   "outputs": [
    {
     "name": "stdout",
     "output_type": "stream",
     "text": [
      "+-------------------+----------------------+\n",
      "|   case_closed_date|year(case_closed_date)|\n",
      "+-------------------+----------------------+\n",
      "|2018-01-01 12:29:00|                  2018|\n",
      "|2018-01-03 08:11:00|                  2018|\n",
      "|2018-01-02 07:57:00|                  2018|\n",
      "|2018-01-02 08:13:00|                  2018|\n",
      "|2018-01-01 13:29:00|                  2018|\n",
      "+-------------------+----------------------+\n",
      "only showing top 5 rows\n",
      "\n"
     ]
    }
   ],
   "source": [
    "# Extract the year from the case_closed_date column.\n",
    "df.select('case_closed_date', year('case_closed_date')).show(5)"
   ]
  },
  {
   "cell_type": "code",
   "execution_count": 12,
   "metadata": {},
   "outputs": [
    {
     "name": "stdout",
     "output_type": "stream",
     "text": [
      "+-------------------+-------------------+\n",
      "|      num_days_late|     num_hours_late|\n",
      "+-------------------+-------------------+\n",
      "| -998.5087616000001|     -23964.2102784|\n",
      "|-2.0126041669999997|-48.302500007999996|\n",
      "|       -3.022337963|      -72.536111112|\n",
      "|       -15.01148148|      -360.27555552|\n",
      "|0.37216435200000003|  8.931944448000001|\n",
      "|       -29.74398148| -713.8555555199999|\n",
      "|       -14.70673611|      -352.96166664|\n",
      "|       -14.70662037|      -352.95888888|\n",
      "|       -14.70662037|      -352.95888888|\n",
      "|       -14.70649306|      -352.95583344|\n",
      "|       -14.70649306|      -352.95583344|\n",
      "|       -14.70636574|      -352.95277776|\n",
      "|          -14.70625|-352.95000000000005|\n",
      "|       -14.70636574|      -352.95277776|\n",
      "|       -14.70623843|-352.94972232000003|\n",
      "|-14.705891199999998|-352.94138879999997|\n",
      "|       -14.70600694|      -352.94416656|\n",
      "|       -14.70576389|      -352.93833336|\n",
      "|       -14.70576389|      -352.93833336|\n",
      "|       -14.70564815|       -352.9355556|\n",
      "+-------------------+-------------------+\n",
      "only showing top 20 rows\n",
      "\n"
     ]
    }
   ],
   "source": [
    "# Convert num_days_late from days to hours in new columns num_hours_late.\n",
    "(\n",
    "    df.withColumn('num_hours_late', df.num_days_late * 24)\n",
    "    .select('num_days_late', 'num_hours_late')\n",
    "    .show()\n",
    ")"
   ]
  },
  {
   "cell_type": "code",
   "execution_count": null,
   "metadata": {},
   "outputs": [],
   "source": [
    "# Join the case data with the source and department data.\n",
    "\n",
    "# already joined in the data prep"
   ]
  },
  {
   "cell_type": "code",
   "execution_count": 16,
   "metadata": {},
   "outputs": [
    {
     "name": "stdout",
     "output_type": "stream",
     "text": [
      "+---------+--------------------+\n",
      "|source_id|     source_username|\n",
      "+---------+--------------------+\n",
      "|   100137|    Merlene Blodgett|\n",
      "|   103582|         Carmen Cura|\n",
      "|   106463|     Richard Sanchez|\n",
      "|   119403|      Betty De Hoyos|\n",
      "|   119555|      Socorro Quiara|\n",
      "|   119868| Michelle San Miguel|\n",
      "|   120752|      Eva T. Kleiber|\n",
      "|   124405|           Lori Lara|\n",
      "|   132408|       Leonard Silva|\n",
      "|   135723|        Amy Cardenas|\n",
      "|   136202|    Michelle Urrutia|\n",
      "|   136979|      Leticia Garcia|\n",
      "|   137943|    Pamela K. Baccus|\n",
      "|   138605|        Marisa Ozuna|\n",
      "|   138650|      Kimberly Green|\n",
      "|   138650|Kimberly Green-Woods|\n",
      "|   138793| Guadalupe Rodriguez|\n",
      "|   138810|       Tawona Martin|\n",
      "|   139342|     Jessica Mendoza|\n",
      "|   139344|        Isis Mendoza|\n",
      "+---------+--------------------+\n",
      "only showing top 20 rows\n",
      "\n"
     ]
    }
   ],
   "source": [
    "sources.show()"
   ]
  },
  {
   "cell_type": "code",
   "execution_count": 18,
   "metadata": {},
   "outputs": [
    {
     "name": "stdout",
     "output_type": "stream",
     "text": [
      "+---------+-----------------+\n",
      "|source_id|  source_username|\n",
      "+---------+-----------------+\n",
      "|  yh24110| Yojani Hernandez|\n",
      "|  yc16753|    Yvonne Casias|\n",
      "|  vk26526|    Vincent Kosub|\n",
      "|  vb22265| Vanessa Burciaga|\n",
      "|  ts15690|  Thelma Martinez|\n",
      "|  sw26367|Samantha Wickwire|\n",
      "| svcCRMSS|         svcCRMSS|\n",
      "| svcCRMLS|         svcCRMLS|\n",
      "| svcCFlag|         CityFlag|\n",
      "|  sv24848|  Salvador Valdez|\n",
      "|  ss26317|     Sakib Shaikh|\n",
      "|  ss21394|  Shirley Sanchez|\n",
      "|  ss09159|   Sylvia Sanchez|\n",
      "|  sp26368|  Steven Peterson|\n",
      "|  sg26196|   Samantha Garza|\n",
      "|  sg22264|  Steven Martinez|\n",
      "|  ru26699|      Raul Ubides|\n",
      "|  rs16746|Ronald S. Sorrell|\n",
      "|  rb05270|       Rene Bomar|\n",
      "|  ps01944|   Paula Stallcup|\n",
      "+---------+-----------------+\n",
      "only showing top 20 rows\n",
      "\n"
     ]
    }
   ],
   "source": [
    "sources.sort(col('source_id').desc()).show()"
   ]
  },
  {
   "cell_type": "code",
   "execution_count": 21,
   "metadata": {},
   "outputs": [
    {
     "name": "stdout",
     "output_type": "stream",
     "text": [
      "-RECORD 0------------------------------------\n",
      " source_id            | af26445              \n",
      " case_id              | 1014220226           \n",
      " case_opened_date     | 2/5/18 15:07         \n",
      " case_closed_date     | 2/5/18 17:59         \n",
      " SLA_due_date         | 6/13/18 15:07        \n",
      " case_late            | NO                   \n",
      " num_days_late        | -127.88046299999999  \n",
      " case_closed          | YES                  \n",
      " dept_division        | Streets              \n",
      " service_request_type | Base/Pavement Repair \n",
      " SLA_days             | 128.0                \n",
      " case_status          | Closed               \n",
      " request_address      | BAYWATER DR and L... \n",
      " council_district     | 7                    \n",
      " source_username      | Alex Franklin        \n",
      "-RECORD 1------------------------------------\n",
      " source_id            | af26445              \n",
      " case_id              | 1014218339           \n",
      " case_opened_date     | 2/5/18 9:17          \n",
      " case_closed_date     | 2/7/18 15:57         \n",
      " SLA_due_date         | 2/19/18 9:17         \n",
      " case_late            | NO                   \n",
      " num_days_late        | -11.72241898         \n",
      " case_closed          | YES                  \n",
      " dept_division        | Storm Water          \n",
      " service_request_type | Herbicide - Grass... \n",
      " SLA_days             | 14.0                 \n",
      " case_status          | Closed               \n",
      " request_address      | KYLE SEALE PY and... \n",
      " council_district     | 8                    \n",
      " source_username      | Alex Franklin        \n",
      "-RECORD 2------------------------------------\n",
      " source_id            | af26445              \n",
      " case_id              | 1014219925           \n",
      " case_opened_date     | 2/5/18 14:16         \n",
      " case_closed_date     | 2/7/18 12:16         \n",
      " SLA_due_date         | 5/1/18 14:16         \n",
      " case_late            | NO                   \n",
      " num_days_late        | -83.08341435         \n",
      " case_closed          | YES                  \n",
      " dept_division        | Signals              \n",
      " service_request_type | Signal Timing Mod... \n",
      " SLA_days             | 85.0                 \n",
      " case_status          | Closed               \n",
      " request_address      | EWING HALSELL and... \n",
      " council_district     | 8                    \n",
      " source_username      | Alex Franklin        \n",
      "-RECORD 3------------------------------------\n",
      " source_id            | af26445              \n",
      " case_id              | 1014218299           \n",
      " case_opened_date     | 2/5/18 9:07          \n",
      " case_closed_date     | 3/19/18 16:22        \n",
      " SLA_due_date         | 3/19/18 9:07         \n",
      " case_late            | YES                  \n",
      " num_days_late        | 0.301863426          \n",
      " case_closed          | YES                  \n",
      " dept_division        | Traffic Engineeri... \n",
      " service_request_type | Speed Limit Sign     \n",
      " SLA_days             | 42.0                 \n",
      " case_status          | Closed               \n",
      " request_address      | KYLE SEALE PY and... \n",
      " council_district     | 8                    \n",
      " source_username      | Alex Franklin        \n",
      "-RECORD 4------------------------------------\n",
      " source_id            | af26445              \n",
      " case_id              | 1014220627           \n",
      " case_opened_date     | 2/5/18 16:17         \n",
      " case_closed_date     | 2/6/18 10:03         \n",
      " SLA_due_date         | 4/9/18 16:17         \n",
      " case_late            | NO                   \n",
      " num_days_late        | -62.25969907         \n",
      " case_closed          | YES                  \n",
      " dept_division        | Code Enforcement     \n",
      " service_request_type | Vacant Lot/Overgr... \n",
      " SLA_days             | 63.0                 \n",
      " case_status          | Closed               \n",
      " request_address      | 5727  FARINON DR,... \n",
      " council_district     | 8                    \n",
      " source_username      | Alex Franklin        \n",
      "only showing top 5 rows\n",
      "\n"
     ]
    }
   ],
   "source": [
    "(\n",
    "    case.join(sources, \"source_id\", \"left\")\n",
    "    .sort(col(\"source_username\"))\n",
    "    .show(5, vertical=True)\n",
    ")"
   ]
  },
  {
   "cell_type": "code",
   "execution_count": 22,
   "metadata": {},
   "outputs": [
    {
     "name": "stdout",
     "output_type": "stream",
     "text": [
      "+------------+\n",
      "|sum(is_null)|\n",
      "+------------+\n",
      "|           0|\n",
      "+------------+\n",
      "\n"
     ]
    }
   ],
   "source": [
    "# Are there any cases that do not have a request source?\n",
    "# are there any null values for source_id?\n",
    "(\n",
    "    df.select(df.source_id.isNull().cast('int').alias('is_null'))\n",
    "    .agg(sum('is_null'))\n",
    "    .show()\n",
    ")"
   ]
  },
  {
   "cell_type": "code",
   "execution_count": 23,
   "metadata": {},
   "outputs": [
    {
     "name": "stdout",
     "output_type": "stream",
     "text": [
      "(0 rows)\n",
      "\n"
     ]
    }
   ],
   "source": [
    "df.filter(col('source_id').isNull()).show(vertical=True)"
   ]
  },
  {
   "cell_type": "code",
   "execution_count": 24,
   "metadata": {
    "scrolled": true
   },
   "outputs": [
    {
     "name": "stdout",
     "output_type": "stream",
     "text": [
      "+--------------------------------+-----+\n",
      "|service_request_type            |count|\n",
      "+--------------------------------+-----+\n",
      "|No Pickup                       |86855|\n",
      "|Overgrown Yard/Trash            |65895|\n",
      "|Bandit Signs                    |32910|\n",
      "|Damaged Cart                    |30338|\n",
      "|Front Or Side Yard Parking      |28794|\n",
      "|Stray Animal                    |26760|\n",
      "|Aggressive Animal(Non-Critical) |24882|\n",
      "|Cart Exchange Request           |22024|\n",
      "|Junk Vehicle On Private Property|21473|\n",
      "|Pot Hole Repair                 |20616|\n",
      "+--------------------------------+-----+\n",
      "only showing top 10 rows\n",
      "\n"
     ]
    }
   ],
   "source": [
    "# What are the top 10 service request types in terms of number of requests?\n",
    "(\n",
    "    df.groupby('service_request_type')\n",
    "    .count()\n",
    "    .sort(col('count').desc())\n",
    "    .show(10, truncate=False)\n",
    ")"
   ]
  },
  {
   "cell_type": "code",
   "execution_count": 27,
   "metadata": {},
   "outputs": [
    {
     "name": "stdout",
     "output_type": "stream",
     "text": [
      "+--------------------------------------+------------------+-------+\n",
      "|service_request_type                  |n_days_late       |n_cases|\n",
      "+--------------------------------------+------------------+-------+\n",
      "|Zoning: Recycle Yard                  |210.89201994318182|132    |\n",
      "|Zoning: Junk Yards                    |200.20517608494276|262    |\n",
      "|Structure/Housing Maintenance         |190.20707698509807|51     |\n",
      "|Donation Container Enforcement        |171.09115313942615|122    |\n",
      "|Storage of Used Mattress              |163.96812829714287|7      |\n",
      "|Labeling for Used Mattress            |162.43032902285717|7      |\n",
      "|Record Keeping of Used Mattresses     |153.99724039428568|7      |\n",
      "|Signage Requied for Sale of Used Mattr|151.63868055333333|12     |\n",
      "|Traffic Signal Graffiti               |137.64583330000002|4      |\n",
      "|License Requied Used Mattress Sales   |128.79828704142858|7      |\n",
      "+--------------------------------------+------------------+-------+\n",
      "only showing top 10 rows\n",
      "\n"
     ]
    }
   ],
   "source": [
    "# What are the top 10 service request types in terms of average days late?\n",
    "# - just the late cases\n",
    "# - for the late cases:\n",
    "#   - what is the average number of days late by request type?\n",
    "(\n",
    "    df.where('case_late') # just the rows where case_late == true\n",
    "    .groupBy('service_request_type')\n",
    "    .agg(mean('num_days_late').alias('n_days_late'), count('*').alias('n_cases'))\n",
    "    .sort(desc('n_days_late'))\n",
    "    .show(10, truncate=False)\n",
    ")"
   ]
  },
  {
   "cell_type": "code",
   "execution_count": 28,
   "metadata": {},
   "outputs": [
    {
     "name": "stdout",
     "output_type": "stream",
     "text": [
      "+-------------------------+---------+------------+\n",
      "|dept_name                |days_late|n_cases_late|\n",
      "+-------------------------+---------+------------+\n",
      "|Metro Health             |6.5      |854         |\n",
      "|Solid Waste Management   |7.1      |33729       |\n",
      "|Trans & Cap Improvements |10.7     |5529        |\n",
      "|Parks and Recreation     |22.4     |3810        |\n",
      "|Animal Care Services     |23.4     |23751       |\n",
      "|Code Enforcement Services|48.1     |25467       |\n",
      "|Development Services     |67.2     |840         |\n",
      "|Customer Service         |88.2     |2035        |\n",
      "|null                     |210.9    |132         |\n",
      "+-------------------------+---------+------------+\n",
      "\n"
     ]
    }
   ],
   "source": [
    "# Does number of days late depend on department?\n",
    "(\n",
    "    df.filter('case_late')\n",
    "    .groupby('dept_name')\n",
    "    .agg(mean('num_days_late').alias('days_late'), count('num_days_late').alias('n_cases_late'))\n",
    "    .sort('days_late')\n",
    "    .withColumn('days_late', round(col('days_late'), 1))\n",
    "    .show(truncate=False)\n",
    ")"
   ]
  },
  {
   "cell_type": "code",
   "execution_count": 29,
   "metadata": {},
   "outputs": [
    {
     "name": "stdout",
     "output_type": "stream",
     "text": [
      "+-------------------------+------+\n",
      "|dept_name                |count |\n",
      "+-------------------------+------+\n",
      "|Animal Care Services     |119362|\n",
      "|null                     |198   |\n",
      "|Solid Waste Management   |286287|\n",
      "|Development Services     |1397  |\n",
      "|Trans & Cap Improvements |97841 |\n",
      "|Customer Service         |2889  |\n",
      "|Metro Health             |5313  |\n",
      "|Parks and Recreation     |19964 |\n",
      "|Code Enforcement Services|321984|\n",
      "|City Council             |34    |\n",
      "+-------------------------+------+\n",
      "\n"
     ]
    }
   ],
   "source": [
    "df.groupby('dept_name').count().show(truncate=False)"
   ]
  },
  {
   "cell_type": "code",
   "execution_count": 32,
   "metadata": {},
   "outputs": [
    {
     "name": "stdout",
     "output_type": "stream",
     "text": [
      "+------------------------+--------------------------------------------+---------+-------+\n",
      "|standardized_dept_name  |service_request_type                        |days_late|n_cases|\n",
      "+------------------------+--------------------------------------------+---------+-------+\n",
      "|City Council            |Request for Research/Information            |null     |5      |\n",
      "|Trans & Cap Improvements|Engineering Design                          |-1413.8  |1      |\n",
      "|Trans & Cap Improvements|Signal Timing Modification By Engineer      |-1352.0  |22     |\n",
      "|Animal Care Services    |Stray Animal                                |-998.8   |27346  |\n",
      "|Parks & Recreation      |Major Park Improvement Install              |-278.3   |271    |\n",
      "|Trans & Cap Improvements|Sidewalk Cost Sharing Program               |-177.8   |131    |\n",
      "|DSD/Code Enforcement    |Multi Tenant Exterior                       |-135.7   |84     |\n",
      "|DSD/Code Enforcement    |CPS Energy Towers                           |-129.8   |511    |\n",
      "|DSD/Code Enforcement    |CPS Energy Wood Poles                       |-129.3   |3501   |\n",
      "|DSD/Code Enforcement    |CPS Energy Metal Poles                      |-129.2   |893    |\n",
      "|DSD/Code Enforcement    |Multi Tenant Interior                       |-125.1   |172    |\n",
      "|DSD/Code Enforcement    |Temporary Obstruction                       |-121.3   |128    |\n",
      "|Trans & Cap Improvements|Manhole Sunken/Raised                       |-120.5   |553    |\n",
      "|DSD/Code Enforcement    |Swim. Pool Inspect: Residential             |-117.5   |821    |\n",
      "|DSD/Code Enforcement    |Zoning: Mobile Homes                        |-116.5   |208    |\n",
      "|DSD/Code Enforcement    |Water No Services                           |-114.8   |686    |\n",
      "|DSD/Code Enforcement    |Zoning Business in Resident Area            |-114.4   |2643   |\n",
      "|DSD/Code Enforcement    |Wasting Water (Leaks)                       |-114.2   |626    |\n",
      "|DSD/Code Enforcement    |Low Hanging Limbs on Streets/Sidewalk       |-113.2   |3908   |\n",
      "|Trans & Cap Improvements|Base/Pavement Repair                        |-112.6   |5215   |\n",
      "|DSD/Code Enforcement    |Zoning: Multi-Family In Single              |-112.1   |718    |\n",
      "|DSD/Code Enforcement    |Zoning: Outside Storage                     |-109.8   |353    |\n",
      "|DSD/Code Enforcement    |Minimum Housing-Owner Occupied              |-109.2   |8157   |\n",
      "|DSD/Code Enforcement    |Minimum Housing-Tenant Occupied             |-108.8   |7363   |\n",
      "|DSD/Code Enforcement    |Zoning: Illumination                        |-108.1   |137    |\n",
      "|DSD/Code Enforcement    |Certificates of Occupancy                   |-103.4   |1354   |\n",
      "|DSD/Code Enforcement    |Whole Scrap Tires Not Marked                |-102.4   |46     |\n",
      "|DSD/Code Enforcement    |Used/Scrap Tire Facility Registration       |-102.1   |14     |\n",
      "|DSD/Code Enforcement    |Used/Scrap Tire Facility Periodic Inspection|-101.1   |160    |\n",
      "|DSD/Code Enforcement    |Zoning: Setbacks                            |-92.3    |713    |\n",
      "|DSD/Code Enforcement    |Structure/Housing Maintenance               |-89.9    |526    |\n",
      "|DSD/Code Enforcement    |Improper Disposal of Scrap Tires            |-88.7    |3      |\n",
      "|Trans & Cap Improvements|Pedestrian Signal - New Request             |-85.9    |125    |\n",
      "|DSD/Code Enforcement    |Improper Rec Keeping-Used/Scrap Tire Fac    |-82.2    |43     |\n",
      "|Trans & Cap Improvements|Signal Timing Modification                  |-80.5    |4513   |\n",
      "|DSD/Code Enforcement    |Improper Storage of Tires/At Facility       |-80.3    |54     |\n",
      "|DSD/Code Enforcement    |Used/Scrap Tire Facility License Pending    |-80.1    |67     |\n",
      "|DSD/Code Enforcement    |Zoning: District Requirement                |-72.6    |1596   |\n",
      "|DSD/Code Enforcement    |Graffiti: Vacant Lots                       |-71.3    |3      |\n",
      "|Trans & Cap Improvements|Flashing Beacon New Request                 |-69.9    |64     |\n",
      "+------------------------+--------------------------------------------+---------+-------+\n",
      "only showing top 40 rows\n",
      "\n"
     ]
    }
   ],
   "source": [
    "# How do number of days late depend on department and request type?\n",
    "(\n",
    "    df.filter(\"case_closed\")\n",
    "#     .filter(\"case_late\")\n",
    "    .groupby(\"standardized_dept_name\", \"service_request_type\")\n",
    "    .agg(avg(\"num_days_late\").alias(\"days_late\"), count(\"*\").alias(\"n_cases\"))\n",
    "    .withColumn(\"days_late\", round(col(\"days_late\"), 1))\n",
    "    .sort(asc(\"days_late\"))\n",
    "    .show(40, truncate=False)\n",
    ")"
   ]
  },
  {
   "cell_type": "code",
   "execution_count": 36,
   "metadata": {},
   "outputs": [
    {
     "name": "stdout",
     "output_type": "stream",
     "text": [
      "+-------------------+-------------------+-------------------+---------------+\n",
      "|   case_opened_date|      case_due_date|   case_closed_date|days_to_resolve|\n",
      "+-------------------+-------------------+-------------------+---------------+\n",
      "|2018-01-01 00:42:00|2020-09-26 00:42:00|2018-01-01 12:29:00|            999|\n",
      "|2018-01-01 08:39:00|2020-09-26 08:39:00|2018-01-01 12:30:00|            999|\n",
      "|2018-01-01 09:51:00|2020-09-26 09:51:00|2018-01-01 11:53:00|            999|\n",
      "|2018-01-01 10:39:00|2020-09-26 10:39:00|2018-01-01 12:29:00|            999|\n",
      "|2018-01-01 10:44:00|2020-09-26 10:44:00|2018-01-01 12:43:00|            999|\n",
      "|2018-01-01 10:52:00|2020-09-26 10:52:00|2018-01-01 11:53:00|            999|\n",
      "|2018-01-01 11:11:00|2020-09-26 11:11:00|2018-01-01 11:53:00|            999|\n",
      "|2018-01-01 11:46:00|2020-09-26 11:46:00|2018-01-01 12:26:00|            999|\n",
      "|2018-01-01 11:58:00|2020-09-26 11:58:00|2018-01-01 12:26:00|            999|\n",
      "|2018-01-01 12:28:00|2020-09-26 12:28:00|2018-01-01 12:44:00|            999|\n",
      "|2018-01-01 12:33:00|2020-09-26 12:33:00|2018-01-01 13:50:00|            999|\n",
      "|2018-01-01 12:33:00|2020-09-26 12:33:00|2018-01-01 12:43:00|            999|\n",
      "|2018-01-01 12:42:00|2020-09-26 12:42:00|2018-01-01 12:48:00|            999|\n",
      "|2018-01-01 13:04:00|2020-09-26 13:04:00|2018-01-01 13:07:00|            999|\n",
      "|2018-01-01 13:05:00|2020-09-26 13:05:00|2018-01-01 19:59:00|            999|\n",
      "|2018-01-01 13:12:00|2020-09-26 13:12:00|2018-01-01 13:15:00|            999|\n",
      "|2018-01-01 13:16:00|2020-09-26 13:16:00|2018-01-03 05:46:00|            999|\n",
      "|2018-01-01 13:47:00|2020-09-26 13:47:00|2018-01-01 13:53:00|            999|\n",
      "|2018-01-01 14:19:00|2020-09-26 14:19:00|2018-01-01 15:06:00|            999|\n",
      "|2018-01-01 15:20:00|2020-09-26 15:20:00|2018-01-02 18:26:00|            999|\n",
      "+-------------------+-------------------+-------------------+---------------+\n",
      "only showing top 20 rows\n",
      "\n"
     ]
    }
   ],
   "source": [
    "(\n",
    "    df.filter(col(\"service_request_type\") == \"Stray Animal\")\n",
    "    .select(\"case_opened_date\", \"case_due_date\", \"case_closed_date\")\n",
    "    .withColumn(\"days_to_resolve\", datediff(\"case_due_date\", \"case_opened_date\"))\n",
    "    .show()\n",
    ")"
   ]
  },
  {
   "cell_type": "markdown",
   "metadata": {},
   "source": [
    "## Handling Dates"
   ]
  },
  {
   "cell_type": "markdown",
   "metadata": {},
   "source": [
    "Quick Recap: getting data from spark dataframes:\n",
    "\n",
    "- `.show(n)`: prints the first `n` rows. Doesn't produce a value that can be used later\n",
    "- `.first`: gives us the first row object\n",
    "- `.head(n)`: gives us a list of the first `n` row objects\n",
    "- `.collect()`: turns *all* the rows into a list of row objects **be careful here**"
   ]
  },
  {
   "cell_type": "code",
   "execution_count": 39,
   "metadata": {},
   "outputs": [
    {
     "data": {
      "text/plain": [
       "[Row(max(case_opened_date)=datetime.datetime(2018, 8, 8, 10, 38), max(case_closed_date)=datetime.datetime(2018, 8, 8, 10, 38))]"
      ]
     },
     "execution_count": 39,
     "metadata": {},
     "output_type": "execute_result"
    }
   ],
   "source": [
    "df.select(max('case_opened_date'), max(\"case_closed_date\")).collect()"
   ]
  },
  {
   "cell_type": "code",
   "execution_count": 38,
   "metadata": {},
   "outputs": [
    {
     "data": {
      "text/plain": [
       "datetime.datetime(2018, 8, 8, 10, 38)"
      ]
     },
     "execution_count": 38,
     "metadata": {},
     "output_type": "execute_result"
    }
   ],
   "source": [
    "max_date = df.select(max('case_opened_date'), max('case_closed_date')).first()[0]\n",
    "max_date"
   ]
  },
  {
   "cell_type": "code",
   "execution_count": 40,
   "metadata": {},
   "outputs": [
    {
     "data": {
      "text/plain": [
       "'2018-08-08 10:38:00'"
      ]
     },
     "execution_count": 40,
     "metadata": {},
     "output_type": "execute_result"
    }
   ],
   "source": [
    "max_date = max_date.strftime('%Y-%m-%d %H:%M:%S')\n",
    "max_date"
   ]
  },
  {
   "cell_type": "code",
   "execution_count": null,
   "metadata": {},
   "outputs": [],
   "source": [
    "df = (\n",
    "    df.withColumn('case_age', datediff(lit(max_date), 'case_opened_date'))\n",
    "    .withColumn('days_to_closed', datediff('case_closed_date', 'case_opened_date'))\n",
    "    .withColumn('case_lifetime', when(col('case_closed'), col('days_to_closed')).otherwise(col('case_age')))\n",
    "    .drop('case_age', 'days_to_closed')\n",
    ")"
   ]
  },
  {
   "cell_type": "markdown",
   "metadata": {},
   "source": [
    "## Sidebar: Python Code Formatting\n",
    "\n",
    "Indentation conveys nesting\n",
    "\n",
    "autoformatting tools remove the discussion"
   ]
  },
  {
   "cell_type": "code",
   "execution_count": null,
   "metadata": {},
   "outputs": [],
   "source": [
    "df = (df.withColumn('case_age', datediff(lit(max_date), 'case_opened_date')).withColumn('days_to_closed', datediff('case_closed_date', 'case_opened_date')).withColumn('case_lifetime', when(col('case_closed'), col('days_to_closed')).otherwise(col('case_age'))).drop('case_age', 'days_to_closed'))"
   ]
  },
  {
   "cell_type": "code",
   "execution_count": null,
   "metadata": {},
   "outputs": [],
   "source": [
    "df = (\n",
    "    df.withColumn(\"case_age\", datediff(lit(max_date), \"case_opened_date\"))\n",
    "    .withColumn(\"days_to_closed\", datediff(\"case_closed_date\", \"case_opened_date\"))\n",
    "    .withColumn(\n",
    "        \"case_lifetime\",\n",
    "        when(col(\"case_closed\"), col(\"days_to_closed\")).otherwise(col(\"case_age\")),\n",
    "    )\n",
    "    .drop(\"case_age\", \"days_to_closed\")\n",
    ")"
   ]
  },
  {
   "cell_type": "code",
   "execution_count": null,
   "metadata": {},
   "outputs": [],
   "source": [
    "(df.withColumn('case_age', datediff(lit(max_date), 'case_opened_date'))\n",
    " .withColumn('days_to_closed', datediff('case_closed_date', 'case_opened_date'))\n",
    " .withColumn('case_lifetime', when(col('case_closed'), col('days_to_closed')).otherwise(col('case_age')))\n",
    " .drop('case_age', 'days_to_closed'))"
   ]
  },
  {
   "cell_type": "markdown",
   "metadata": {},
   "source": [
    "1. Install black -- the python code formatter\n",
    "\n",
    "    ```\n",
    "    python -m pip install black\n",
    "    ```\n",
    "    \n",
    "1. Create an alias\n",
    "\n",
    "    ```\n",
    "    alias fmt-clipboard='pbpaste | black -q - | pbcopy'\n",
    "    ```\n",
    "\n",
    "    Put this line in your `.zshrc` or `.bash_profile`\n",
    "    \n",
    "    ```\n",
    "    echo $0\n",
    "    ```\n",
    "    \n",
    "    Will tell you what shell you are using\n",
    "    \n",
    "1. Open a new terminal\n",
    "\n",
    "1. Copy the code you want to format\n",
    "\n",
    "1. Run the `fmt-clipboard` command\n",
    "\n",
    "1. Paste the formatted code\n",
    "\n",
    "\n",
    "To format a `.py` file\n",
    "\n",
    "```\n",
    "black script.py\n",
    "```\n",
    "\n",
    "`black-nb`"
   ]
  }
 ],
 "metadata": {
  "kernelspec": {
   "display_name": "Python 3",
   "language": "python",
   "name": "python3"
  },
  "language_info": {
   "codemirror_mode": {
    "name": "ipython",
    "version": 3
   },
   "file_extension": ".py",
   "mimetype": "text/x-python",
   "name": "python",
   "nbconvert_exporter": "python",
   "pygments_lexer": "ipython3",
   "version": "3.8.5"
  }
 },
 "nbformat": 4,
 "nbformat_minor": 4
}
