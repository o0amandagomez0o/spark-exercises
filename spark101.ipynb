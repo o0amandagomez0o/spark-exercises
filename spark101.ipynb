{
 "cells": [
  {
   "cell_type": "markdown",
   "metadata": {},
   "source": [
    "# Exercises\n",
    "Within your `codeup-data-science` directory, create a new repo named `spark-exercises`. This will be where you do your work for this module. Create a repository on GitHub with the same name, and link your local repository to GitHub.\n",
    "\n",
    "Save this work in your `spark-exercises` repo. Then add, commit, and push your changes.\n",
    "\n",
    "Create a jupyter notebook or python script named `spark101` for this exercise."
   ]
  },
  {
   "cell_type": "code",
   "execution_count": 146,
   "metadata": {},
   "outputs": [],
   "source": [
    "import pandas as pd\n",
    "import numpy as np\n",
    "import pyspark\n",
    "from pyspark.sql.functions import min, max, mean, concat, lit, when, substring_index, count, round, sum\n",
    "from pydataset import data\n",
    "from pyspark.sql.functions import asc, desc, col, substring, expr"
   ]
  },
  {
   "cell_type": "code",
   "execution_count": 2,
   "metadata": {},
   "outputs": [],
   "source": [
    "spark = pyspark.sql.SparkSession.builder.getOrCreate()"
   ]
  },
  {
   "cell_type": "markdown",
   "metadata": {},
   "source": [
    "# 1. Create a spark data frame that contains your favorite programming languages."
   ]
  },
  {
   "cell_type": "code",
   "execution_count": 3,
   "metadata": {},
   "outputs": [],
   "source": [
    "pd_df = pd.DataFrame({\n",
    "    \n",
    "    \"language\": [\"python\", \"sql\", \"html\", \"java\", \"js\", \"cplusplus\"]\n",
    "})"
   ]
  },
  {
   "cell_type": "code",
   "execution_count": 4,
   "metadata": {},
   "outputs": [
    {
     "data": {
      "text/html": [
       "<div>\n",
       "<style scoped>\n",
       "    .dataframe tbody tr th:only-of-type {\n",
       "        vertical-align: middle;\n",
       "    }\n",
       "\n",
       "    .dataframe tbody tr th {\n",
       "        vertical-align: top;\n",
       "    }\n",
       "\n",
       "    .dataframe thead th {\n",
       "        text-align: right;\n",
       "    }\n",
       "</style>\n",
       "<table border=\"1\" class=\"dataframe\">\n",
       "  <thead>\n",
       "    <tr style=\"text-align: right;\">\n",
       "      <th></th>\n",
       "      <th>language</th>\n",
       "    </tr>\n",
       "  </thead>\n",
       "  <tbody>\n",
       "    <tr>\n",
       "      <th>0</th>\n",
       "      <td>python</td>\n",
       "    </tr>\n",
       "    <tr>\n",
       "      <th>1</th>\n",
       "      <td>sql</td>\n",
       "    </tr>\n",
       "    <tr>\n",
       "      <th>2</th>\n",
       "      <td>html</td>\n",
       "    </tr>\n",
       "    <tr>\n",
       "      <th>3</th>\n",
       "      <td>java</td>\n",
       "    </tr>\n",
       "    <tr>\n",
       "      <th>4</th>\n",
       "      <td>js</td>\n",
       "    </tr>\n",
       "    <tr>\n",
       "      <th>5</th>\n",
       "      <td>cplusplus</td>\n",
       "    </tr>\n",
       "  </tbody>\n",
       "</table>\n",
       "</div>"
      ],
      "text/plain": [
       "    language\n",
       "0     python\n",
       "1        sql\n",
       "2       html\n",
       "3       java\n",
       "4         js\n",
       "5  cplusplus"
      ]
     },
     "execution_count": 4,
     "metadata": {},
     "output_type": "execute_result"
    }
   ],
   "source": [
    "pd_df"
   ]
  },
  {
   "cell_type": "code",
   "execution_count": 5,
   "metadata": {},
   "outputs": [
    {
     "data": {
      "text/plain": [
       "DataFrame[language: string]"
      ]
     },
     "execution_count": 5,
     "metadata": {},
     "output_type": "execute_result"
    }
   ],
   "source": [
    "df = spark.createDataFrame(pd_df)\n",
    "df"
   ]
  },
  {
   "cell_type": "markdown",
   "metadata": {},
   "source": [
    "- The name of the column should be `language`\n",
    "- View the schema of the dataframe"
   ]
  },
  {
   "cell_type": "code",
   "execution_count": 6,
   "metadata": {},
   "outputs": [
    {
     "name": "stdout",
     "output_type": "stream",
     "text": [
      "root\n",
      " |-- language: string (nullable = true)\n",
      "\n"
     ]
    }
   ],
   "source": [
    "df.printSchema()"
   ]
  },
  {
   "cell_type": "markdown",
   "metadata": {},
   "source": [
    "- Output the shape of the dataframe"
   ]
  },
  {
   "cell_type": "code",
   "execution_count": 7,
   "metadata": {},
   "outputs": [
    {
     "name": "stdout",
     "output_type": "stream",
     "text": [
      "+-------+---------+\n",
      "|summary| language|\n",
      "+-------+---------+\n",
      "|  count|        6|\n",
      "|   mean|     null|\n",
      "| stddev|     null|\n",
      "|    min|cplusplus|\n",
      "|    max|      sql|\n",
      "+-------+---------+\n",
      "\n"
     ]
    }
   ],
   "source": [
    "df.describe().show()"
   ]
  },
  {
   "cell_type": "code",
   "execution_count": 58,
   "metadata": {},
   "outputs": [
    {
     "name": "stdout",
     "output_type": "stream",
     "text": [
      "6 rows 1 columns\n"
     ]
    }
   ],
   "source": [
    "print(df.count(), \"rows\", len(df.columns), \"columns\")"
   ]
  },
  {
   "cell_type": "markdown",
   "metadata": {},
   "source": [
    "- Show the first 5 records in the dataframe"
   ]
  },
  {
   "cell_type": "code",
   "execution_count": 8,
   "metadata": {},
   "outputs": [
    {
     "name": "stdout",
     "output_type": "stream",
     "text": [
      "+--------+\n",
      "|language|\n",
      "+--------+\n",
      "|  python|\n",
      "|     sql|\n",
      "|    html|\n",
      "|    java|\n",
      "|      js|\n",
      "+--------+\n",
      "only showing top 5 rows\n",
      "\n"
     ]
    }
   ],
   "source": [
    "df.show(5)"
   ]
  },
  {
   "cell_type": "markdown",
   "metadata": {},
   "source": [
    "# 2. Load the `mpg` dataset as a spark dataframe."
   ]
  },
  {
   "cell_type": "code",
   "execution_count": 9,
   "metadata": {},
   "outputs": [],
   "source": [
    "mpg = data('mpg')"
   ]
  },
  {
   "cell_type": "code",
   "execution_count": 10,
   "metadata": {},
   "outputs": [
    {
     "data": {
      "text/html": [
       "<div>\n",
       "<style scoped>\n",
       "    .dataframe tbody tr th:only-of-type {\n",
       "        vertical-align: middle;\n",
       "    }\n",
       "\n",
       "    .dataframe tbody tr th {\n",
       "        vertical-align: top;\n",
       "    }\n",
       "\n",
       "    .dataframe thead th {\n",
       "        text-align: right;\n",
       "    }\n",
       "</style>\n",
       "<table border=\"1\" class=\"dataframe\">\n",
       "  <thead>\n",
       "    <tr style=\"text-align: right;\">\n",
       "      <th></th>\n",
       "      <th>manufacturer</th>\n",
       "      <th>model</th>\n",
       "      <th>displ</th>\n",
       "      <th>year</th>\n",
       "      <th>cyl</th>\n",
       "      <th>trans</th>\n",
       "      <th>drv</th>\n",
       "      <th>cty</th>\n",
       "      <th>hwy</th>\n",
       "      <th>fl</th>\n",
       "      <th>class</th>\n",
       "    </tr>\n",
       "  </thead>\n",
       "  <tbody>\n",
       "    <tr>\n",
       "      <th>1</th>\n",
       "      <td>audi</td>\n",
       "      <td>a4</td>\n",
       "      <td>1.8</td>\n",
       "      <td>1999</td>\n",
       "      <td>4</td>\n",
       "      <td>auto(l5)</td>\n",
       "      <td>f</td>\n",
       "      <td>18</td>\n",
       "      <td>29</td>\n",
       "      <td>p</td>\n",
       "      <td>compact</td>\n",
       "    </tr>\n",
       "    <tr>\n",
       "      <th>2</th>\n",
       "      <td>audi</td>\n",
       "      <td>a4</td>\n",
       "      <td>1.8</td>\n",
       "      <td>1999</td>\n",
       "      <td>4</td>\n",
       "      <td>manual(m5)</td>\n",
       "      <td>f</td>\n",
       "      <td>21</td>\n",
       "      <td>29</td>\n",
       "      <td>p</td>\n",
       "      <td>compact</td>\n",
       "    </tr>\n",
       "    <tr>\n",
       "      <th>3</th>\n",
       "      <td>audi</td>\n",
       "      <td>a4</td>\n",
       "      <td>2.0</td>\n",
       "      <td>2008</td>\n",
       "      <td>4</td>\n",
       "      <td>manual(m6)</td>\n",
       "      <td>f</td>\n",
       "      <td>20</td>\n",
       "      <td>31</td>\n",
       "      <td>p</td>\n",
       "      <td>compact</td>\n",
       "    </tr>\n",
       "  </tbody>\n",
       "</table>\n",
       "</div>"
      ],
      "text/plain": [
       "  manufacturer model  displ  year  cyl       trans drv  cty  hwy fl    class\n",
       "1         audi    a4    1.8  1999    4    auto(l5)   f   18   29  p  compact\n",
       "2         audi    a4    1.8  1999    4  manual(m5)   f   21   29  p  compact\n",
       "3         audi    a4    2.0  2008    4  manual(m6)   f   20   31  p  compact"
      ]
     },
     "execution_count": 10,
     "metadata": {},
     "output_type": "execute_result"
    }
   ],
   "source": [
    "mpg.head(3)"
   ]
  },
  {
   "cell_type": "code",
   "execution_count": 11,
   "metadata": {},
   "outputs": [
    {
     "data": {
      "text/plain": [
       "DataFrame[manufacturer: string, model: string, displ: double, year: bigint, cyl: bigint, trans: string, drv: string, cty: bigint, hwy: bigint, fl: string, class: string]"
      ]
     },
     "execution_count": 11,
     "metadata": {},
     "output_type": "execute_result"
    }
   ],
   "source": [
    "smpg = spark.createDataFrame(mpg)\n",
    "smpg"
   ]
  },
  {
   "cell_type": "markdown",
   "metadata": {},
   "source": [
    "## a. Create 1 column of output that contains a message like the one below:\n",
    "`The 1999 audi a4 has a 4 cylinder engine.`\n",
    "For each vehicle."
   ]
  },
  {
   "cell_type": "code",
   "execution_count": 12,
   "metadata": {},
   "outputs": [
    {
     "name": "stdout",
     "output_type": "stream",
     "text": [
      "+--------------------+\n",
      "|    summary_sentence|\n",
      "+--------------------+\n",
      "|The 1999 a4 has a...|\n",
      "|The 1999 a4 has a...|\n",
      "|The 2008 a4 has a...|\n",
      "|The 2008 a4 has a...|\n",
      "|The 1999 a4 has a...|\n",
      "+--------------------+\n",
      "only showing top 5 rows\n",
      "\n"
     ]
    }
   ],
   "source": [
    "smpg.select(concat(lit('The '), \n",
    "                 'year',\n",
    "                 lit(' '),\n",
    "                 'model',\n",
    "                 lit(' has a '),\n",
    "                 'cyl',\n",
    "                 lit(' cylinder engine.'),\n",
    "                ).alias('summary_sentence')).show(5)"
   ]
  },
  {
   "cell_type": "code",
   "execution_count": 159,
   "metadata": {},
   "outputs": [
    {
     "name": "stdout",
     "output_type": "stream",
     "text": [
      "+----------------------------------------------------+\n",
      "|summary_sentence                                    |\n",
      "+----------------------------------------------------+\n",
      "|The 1999 a4 has a 4 cylinder engine.                |\n",
      "|The 1999 a4 has a 4 cylinder engine.                |\n",
      "|The 2008 a4 has a 4 cylinder engine.                |\n",
      "|The 2008 a4 has a 4 cylinder engine.                |\n",
      "|The 1999 a4 has a 6 cylinder engine.                |\n",
      "|The 1999 a4 has a 6 cylinder engine.                |\n",
      "|The 2008 a4 has a 6 cylinder engine.                |\n",
      "|The 1999 a4 quattro has a 4 cylinder engine.        |\n",
      "|The 1999 a4 quattro has a 4 cylinder engine.        |\n",
      "|The 2008 a4 quattro has a 4 cylinder engine.        |\n",
      "|The 2008 a4 quattro has a 4 cylinder engine.        |\n",
      "|The 1999 a4 quattro has a 6 cylinder engine.        |\n",
      "|The 1999 a4 quattro has a 6 cylinder engine.        |\n",
      "|The 2008 a4 quattro has a 6 cylinder engine.        |\n",
      "|The 2008 a4 quattro has a 6 cylinder engine.        |\n",
      "|The 1999 a6 quattro has a 6 cylinder engine.        |\n",
      "|The 2008 a6 quattro has a 6 cylinder engine.        |\n",
      "|The 2008 a6 quattro has a 8 cylinder engine.        |\n",
      "|The 2008 c1500 suburban 2wd has a 8 cylinder engine.|\n",
      "|The 2008 c1500 suburban 2wd has a 8 cylinder engine.|\n",
      "+----------------------------------------------------+\n",
      "only showing top 20 rows\n",
      "\n"
     ]
    }
   ],
   "source": [
    "smpg.select(concat(lit('The '), \n",
    "                 'year',\n",
    "                 lit(' '),\n",
    "                 'model',\n",
    "                 lit(' has a '),\n",
    "                 'cyl',\n",
    "                 lit(' cylinder engine.'),\n",
    "                ).alias('summary_sentence')).show(truncate=False)"
   ]
  },
  {
   "cell_type": "markdown",
   "metadata": {},
   "source": [
    "## b. Transform the `trans` column so that it only contains either `manual` or `auto`."
   ]
  },
  {
   "cell_type": "code",
   "execution_count": 13,
   "metadata": {},
   "outputs": [
    {
     "name": "stdout",
     "output_type": "stream",
     "text": [
      "root\n",
      " |-- manufacturer: string (nullable = true)\n",
      " |-- model: string (nullable = true)\n",
      " |-- displ: double (nullable = true)\n",
      " |-- year: long (nullable = true)\n",
      " |-- cyl: long (nullable = true)\n",
      " |-- trans: string (nullable = true)\n",
      " |-- drv: string (nullable = true)\n",
      " |-- cty: long (nullable = true)\n",
      " |-- hwy: long (nullable = true)\n",
      " |-- fl: string (nullable = true)\n",
      " |-- class: string (nullable = true)\n",
      "\n"
     ]
    }
   ],
   "source": [
    "smpg.printSchema()"
   ]
  },
  {
   "cell_type": "code",
   "execution_count": 14,
   "metadata": {},
   "outputs": [
    {
     "name": "stdout",
     "output_type": "stream",
     "text": [
      "+------------+-----+-----+----+---+-----+---+---+---+---+-----+\n",
      "|manufacturer|model|displ|year|cyl|trans|drv|cty|hwy| fl|class|\n",
      "+------------+-----+-----+----+---+-----+---+---+---+---+-----+\n",
      "+------------+-----+-----+----+---+-----+---+---+---+---+-----+\n",
      "\n"
     ]
    }
   ],
   "source": [
    "smpg.where(smpg.trans == 'auto').show()"
   ]
  },
  {
   "cell_type": "code",
   "execution_count": 15,
   "metadata": {},
   "outputs": [
    {
     "name": "stdout",
     "output_type": "stream",
     "text": [
      "+----------+-------+\n",
      "|     trans|trimmed|\n",
      "+----------+-------+\n",
      "|  auto(l5)|   auto|\n",
      "|manual(m5)| manual|\n",
      "|manual(m6)| manual|\n",
      "|  auto(av)|   auto|\n",
      "|  auto(l5)|   auto|\n",
      "|manual(m5)| manual|\n",
      "|  auto(av)|   auto|\n",
      "|manual(m5)| manual|\n",
      "|  auto(l5)|   auto|\n",
      "|manual(m6)| manual|\n",
      "|  auto(s6)|   auto|\n",
      "|  auto(l5)|   auto|\n",
      "|manual(m5)| manual|\n",
      "|  auto(s6)|   auto|\n",
      "|manual(m6)| manual|\n",
      "|  auto(l5)|   auto|\n",
      "|  auto(s6)|   auto|\n",
      "|  auto(s6)|   auto|\n",
      "|  auto(l4)|   auto|\n",
      "|  auto(l4)|   auto|\n",
      "+----------+-------+\n",
      "only showing top 20 rows\n",
      "\n"
     ]
    }
   ],
   "source": [
    "smpg.select('trans', substring_index(smpg.trans, '(', 1).alias('trimmed')).show()"
   ]
  },
  {
   "cell_type": "markdown",
   "metadata": {},
   "source": [
    "# 3. Load the `tips` dataset as a spark dataframe."
   ]
  },
  {
   "cell_type": "code",
   "execution_count": 16,
   "metadata": {},
   "outputs": [],
   "source": [
    "tip = data('tips')"
   ]
  },
  {
   "cell_type": "code",
   "execution_count": 17,
   "metadata": {},
   "outputs": [
    {
     "data": {
      "text/html": [
       "<div>\n",
       "<style scoped>\n",
       "    .dataframe tbody tr th:only-of-type {\n",
       "        vertical-align: middle;\n",
       "    }\n",
       "\n",
       "    .dataframe tbody tr th {\n",
       "        vertical-align: top;\n",
       "    }\n",
       "\n",
       "    .dataframe thead th {\n",
       "        text-align: right;\n",
       "    }\n",
       "</style>\n",
       "<table border=\"1\" class=\"dataframe\">\n",
       "  <thead>\n",
       "    <tr style=\"text-align: right;\">\n",
       "      <th></th>\n",
       "      <th>total_bill</th>\n",
       "      <th>tip</th>\n",
       "      <th>sex</th>\n",
       "      <th>smoker</th>\n",
       "      <th>day</th>\n",
       "      <th>time</th>\n",
       "      <th>size</th>\n",
       "    </tr>\n",
       "  </thead>\n",
       "  <tbody>\n",
       "    <tr>\n",
       "      <th>1</th>\n",
       "      <td>16.99</td>\n",
       "      <td>1.01</td>\n",
       "      <td>Female</td>\n",
       "      <td>No</td>\n",
       "      <td>Sun</td>\n",
       "      <td>Dinner</td>\n",
       "      <td>2</td>\n",
       "    </tr>\n",
       "    <tr>\n",
       "      <th>2</th>\n",
       "      <td>10.34</td>\n",
       "      <td>1.66</td>\n",
       "      <td>Male</td>\n",
       "      <td>No</td>\n",
       "      <td>Sun</td>\n",
       "      <td>Dinner</td>\n",
       "      <td>3</td>\n",
       "    </tr>\n",
       "  </tbody>\n",
       "</table>\n",
       "</div>"
      ],
      "text/plain": [
       "   total_bill   tip     sex smoker  day    time  size\n",
       "1       16.99  1.01  Female     No  Sun  Dinner     2\n",
       "2       10.34  1.66    Male     No  Sun  Dinner     3"
      ]
     },
     "execution_count": 17,
     "metadata": {},
     "output_type": "execute_result"
    }
   ],
   "source": [
    "tip.head(2)"
   ]
  },
  {
   "cell_type": "code",
   "execution_count": 18,
   "metadata": {},
   "outputs": [
    {
     "data": {
      "text/plain": [
       "DataFrame[total_bill: double, tip: double, sex: string, smoker: string, day: string, time: string, size: bigint]"
      ]
     },
     "execution_count": 18,
     "metadata": {},
     "output_type": "execute_result"
    }
   ],
   "source": [
    "tips = spark.createDataFrame(tip)\n",
    "tips"
   ]
  },
  {
   "cell_type": "markdown",
   "metadata": {},
   "source": [
    "## a. What percentage of observations are smokers?"
   ]
  },
  {
   "cell_type": "code",
   "execution_count": 19,
   "metadata": {},
   "outputs": [
    {
     "data": {
      "text/plain": [
       "93"
      ]
     },
     "execution_count": 19,
     "metadata": {},
     "output_type": "execute_result"
    }
   ],
   "source": [
    "tips.filter(tips.smoker == 'Yes').count()"
   ]
  },
  {
   "cell_type": "code",
   "execution_count": 20,
   "metadata": {},
   "outputs": [
    {
     "data": {
      "text/plain": [
       "244"
      ]
     },
     "execution_count": 20,
     "metadata": {},
     "output_type": "execute_result"
    }
   ],
   "source": [
    "tips.count()"
   ]
  },
  {
   "cell_type": "code",
   "execution_count": 21,
   "metadata": {},
   "outputs": [
    {
     "data": {
      "text/plain": [
       "38.114754098360656"
      ]
     },
     "execution_count": 21,
     "metadata": {},
     "output_type": "execute_result"
    }
   ],
   "source": [
    "((tips.filter(tips.smoker == 'Yes').count()) / (tips.count())) * 100"
   ]
  },
  {
   "cell_type": "markdown",
   "metadata": {},
   "source": [
    "## b. Create a column that contains the tip percentage"
   ]
  },
  {
   "cell_type": "code",
   "execution_count": 22,
   "metadata": {},
   "outputs": [
    {
     "name": "stdout",
     "output_type": "stream",
     "text": [
      "+-------------------+\n",
      "|            tip_pct|\n",
      "+-------------------+\n",
      "|0.05944673337257211|\n",
      "|0.16054158607350097|\n",
      "|0.16658733936220846|\n",
      "| 0.1397804054054054|\n",
      "|0.14680764538430255|\n",
      "|0.18623962040332148|\n",
      "|0.22805017103762829|\n",
      "|0.11607142857142858|\n",
      "|0.13031914893617022|\n",
      "| 0.2185385656292287|\n",
      "| 0.1665043816942551|\n",
      "|0.14180374361883155|\n",
      "|0.10181582360570687|\n",
      "|0.16277807921866522|\n",
      "|0.20364126770060686|\n",
      "|0.18164967562557924|\n",
      "| 0.1616650532429816|\n",
      "|0.22774708410067526|\n",
      "|0.20624631703005306|\n",
      "|0.16222760290556903|\n",
      "+-------------------+\n",
      "only showing top 20 rows\n",
      "\n"
     ]
    }
   ],
   "source": [
    "tips.select((tips.tip / tips.total_bill).alias('tip_pct')).show()"
   ]
  },
  {
   "cell_type": "code",
   "execution_count": 23,
   "metadata": {},
   "outputs": [],
   "source": [
    "tips = tips.select('*', (tips.tip / tips.total_bill).alias('tip_pct'))"
   ]
  },
  {
   "cell_type": "code",
   "execution_count": 37,
   "metadata": {},
   "outputs": [
    {
     "name": "stdout",
     "output_type": "stream",
     "text": [
      "+---------+\n",
      "|r_tip_pct|\n",
      "+---------+\n",
      "|   0.0594|\n",
      "|   0.1605|\n",
      "|   0.1666|\n",
      "|   0.1398|\n",
      "|   0.1468|\n",
      "|   0.1862|\n",
      "|   0.2281|\n",
      "|   0.1161|\n",
      "|   0.1303|\n",
      "|   0.2185|\n",
      "|   0.1665|\n",
      "|   0.1418|\n",
      "|   0.1018|\n",
      "|   0.1628|\n",
      "|   0.2036|\n",
      "|   0.1816|\n",
      "|   0.1617|\n",
      "|   0.2277|\n",
      "|   0.2062|\n",
      "|   0.1622|\n",
      "+---------+\n",
      "only showing top 20 rows\n",
      "\n"
     ]
    }
   ],
   "source": [
    "tips.select(round(tips.tip_pct, 4).alias('r_tip_pct')).show()"
   ]
  },
  {
   "cell_type": "code",
   "execution_count": 38,
   "metadata": {},
   "outputs": [],
   "source": [
    "tips = tips.select('*', round(tips.tip_pct, 4).alias('r_tip_pct'))"
   ]
  },
  {
   "cell_type": "code",
   "execution_count": 39,
   "metadata": {},
   "outputs": [
    {
     "name": "stdout",
     "output_type": "stream",
     "text": [
      "+----------+----+------+------+---+------+----+-------------------+---------+\n",
      "|total_bill| tip|   sex|smoker|day|  time|size|            tip_pct|r_tip_pct|\n",
      "+----------+----+------+------+---+------+----+-------------------+---------+\n",
      "|     16.99|1.01|Female|    No|Sun|Dinner|   2|0.05944673337257211|   0.0594|\n",
      "|     10.34|1.66|  Male|    No|Sun|Dinner|   3|0.16054158607350097|   0.1605|\n",
      "|     21.01| 3.5|  Male|    No|Sun|Dinner|   3|0.16658733936220846|   0.1666|\n",
      "|     23.68|3.31|  Male|    No|Sun|Dinner|   2| 0.1397804054054054|   0.1398|\n",
      "|     24.59|3.61|Female|    No|Sun|Dinner|   4|0.14680764538430255|   0.1468|\n",
      "|     25.29|4.71|  Male|    No|Sun|Dinner|   4|0.18623962040332148|   0.1862|\n",
      "|      8.77| 2.0|  Male|    No|Sun|Dinner|   2|0.22805017103762829|   0.2281|\n",
      "|     26.88|3.12|  Male|    No|Sun|Dinner|   4|0.11607142857142858|   0.1161|\n",
      "|     15.04|1.96|  Male|    No|Sun|Dinner|   2|0.13031914893617022|   0.1303|\n",
      "|     14.78|3.23|  Male|    No|Sun|Dinner|   2| 0.2185385656292287|   0.2185|\n",
      "|     10.27|1.71|  Male|    No|Sun|Dinner|   2| 0.1665043816942551|   0.1665|\n",
      "|     35.26| 5.0|Female|    No|Sun|Dinner|   4|0.14180374361883155|   0.1418|\n",
      "|     15.42|1.57|  Male|    No|Sun|Dinner|   2|0.10181582360570687|   0.1018|\n",
      "|     18.43| 3.0|  Male|    No|Sun|Dinner|   4|0.16277807921866522|   0.1628|\n",
      "|     14.83|3.02|Female|    No|Sun|Dinner|   2|0.20364126770060686|   0.2036|\n",
      "|     21.58|3.92|  Male|    No|Sun|Dinner|   2|0.18164967562557924|   0.1816|\n",
      "|     10.33|1.67|Female|    No|Sun|Dinner|   3| 0.1616650532429816|   0.1617|\n",
      "|     16.29|3.71|  Male|    No|Sun|Dinner|   3|0.22774708410067526|   0.2277|\n",
      "|     16.97| 3.5|Female|    No|Sun|Dinner|   3|0.20624631703005306|   0.2062|\n",
      "|     20.65|3.35|  Male|    No|Sat|Dinner|   3|0.16222760290556903|   0.1622|\n",
      "+----------+----+------+------+---+------+----+-------------------+---------+\n",
      "only showing top 20 rows\n",
      "\n"
     ]
    }
   ],
   "source": [
    "tips.show()"
   ]
  },
  {
   "cell_type": "markdown",
   "metadata": {},
   "source": [
    "## c. Calculate the average tip percentage for each combination of sex and smoker."
   ]
  },
  {
   "cell_type": "code",
   "execution_count": 42,
   "metadata": {},
   "outputs": [
    {
     "name": "stdout",
     "output_type": "stream",
     "text": [
      "+------+------+------+\n",
      "|smoker|Female|  Male|\n",
      "+------+------+------+\n",
      "|    No|0.1569|0.1607|\n",
      "|   Yes|0.1822|0.1528|\n",
      "+------+------+------+\n",
      "\n"
     ]
    }
   ],
   "source": [
    "tips.groupBy('smoker').pivot('sex').agg(round(mean('tip_pct'), 4)).show()"
   ]
  },
  {
   "cell_type": "code",
   "execution_count": 41,
   "metadata": {},
   "outputs": [
    {
     "name": "stdout",
     "output_type": "stream",
     "text": [
      "+------+------+------+\n",
      "|smoker|Female|  Male|\n",
      "+------+------+------+\n",
      "|    No|0.1569|0.1607|\n",
      "|   Yes|0.1821|0.1528|\n",
      "+------+------+------+\n",
      "\n"
     ]
    }
   ],
   "source": [
    "tips.groupBy('smoker').pivot('sex').agg(round(mean('r_tip_pct'), 4)).show()"
   ]
  },
  {
   "cell_type": "markdown",
   "metadata": {},
   "source": [
    "# 4. Use the seattle weather dataset referenced in the lesson to answer the questions below."
   ]
  },
  {
   "cell_type": "code",
   "execution_count": 44,
   "metadata": {},
   "outputs": [],
   "source": [
    "from vega_datasets import data"
   ]
  },
  {
   "cell_type": "code",
   "execution_count": 45,
   "metadata": {},
   "outputs": [
    {
     "name": "stdout",
     "output_type": "stream",
     "text": [
      "+----------+-------------+--------+--------+----+-------+\n",
      "|      date|precipitation|temp_max|temp_min|wind|weather|\n",
      "+----------+-------------+--------+--------+----+-------+\n",
      "|2012-01-01|          0.0|    12.8|     5.0| 4.7|drizzle|\n",
      "|2012-01-02|         10.9|    10.6|     2.8| 4.5|   rain|\n",
      "|2012-01-03|          0.8|    11.7|     7.2| 2.3|   rain|\n",
      "|2012-01-04|         20.3|    12.2|     5.6| 4.7|   rain|\n",
      "|2012-01-05|          1.3|     8.9|     2.8| 6.1|   rain|\n",
      "|2012-01-06|          2.5|     4.4|     2.2| 2.2|   rain|\n",
      "+----------+-------------+--------+--------+----+-------+\n",
      "only showing top 6 rows\n",
      "\n"
     ]
    }
   ],
   "source": [
    "weather = data.seattle_weather().assign(date=lambda df: df.date.astype(str))\n",
    "sea = spark.createDataFrame(weather)\n",
    "sea.show(6)"
   ]
  },
  {
   "cell_type": "markdown",
   "metadata": {},
   "source": [
    "## a. Convert the temperatures to fahrenheit."
   ]
  },
  {
   "cell_type": "code",
   "execution_count": 47,
   "metadata": {},
   "outputs": [
    {
     "name": "stdout",
     "output_type": "stream",
     "text": [
      "+-----------------------+\n",
      "|((temp_max * 1.8) + 32)|\n",
      "+-----------------------+\n",
      "|     55.040000000000006|\n",
      "|                  51.08|\n",
      "|                  53.06|\n",
      "|                  53.96|\n",
      "|     48.019999999999996|\n",
      "|                  39.92|\n",
      "|                  44.96|\n",
      "|                   50.0|\n",
      "|                  48.92|\n",
      "|     42.980000000000004|\n",
      "|     42.980000000000004|\n",
      "|     42.980000000000004|\n",
      "|                   41.0|\n",
      "|                  39.92|\n",
      "|                  33.98|\n",
      "|                  35.06|\n",
      "|                  37.94|\n",
      "|                   32.0|\n",
      "|                  30.02|\n",
      "|                  44.96|\n",
      "+-----------------------+\n",
      "only showing top 20 rows\n",
      "\n"
     ]
    }
   ],
   "source": [
    "sea.select((sea.temp_max * (9/5)) + 32).show()"
   ]
  },
  {
   "cell_type": "code",
   "execution_count": 52,
   "metadata": {},
   "outputs": [],
   "source": [
    "maxtf = ((sea.temp_max * 1.8) + 32).alias('max_temp_F')"
   ]
  },
  {
   "cell_type": "code",
   "execution_count": 53,
   "metadata": {},
   "outputs": [],
   "source": [
    "mintf = ((sea.temp_min * 1.8) + 32).alias('min_temp_F')"
   ]
  },
  {
   "cell_type": "code",
   "execution_count": 56,
   "metadata": {},
   "outputs": [
    {
     "name": "stdout",
     "output_type": "stream",
     "text": [
      "+----------+-------------+--------+--------+----+-------+----------+----------+\n",
      "|      date|precipitation|temp_max|temp_min|wind|weather|max_temp_F|min_temp_F|\n",
      "+----------+-------------+--------+--------+----+-------+----------+----------+\n",
      "|2012-01-01|          0.0|    12.8|     5.0| 4.7|drizzle|     55.04|      41.0|\n",
      "|2012-01-02|         10.9|    10.6|     2.8| 4.5|   rain|     51.08|     37.04|\n",
      "|2012-01-03|          0.8|    11.7|     7.2| 2.3|   rain|     53.06|     44.96|\n",
      "|2012-01-04|         20.3|    12.2|     5.6| 4.7|   rain|     53.96|     42.08|\n",
      "+----------+-------------+--------+--------+----+-------+----------+----------+\n",
      "only showing top 4 rows\n",
      "\n"
     ]
    }
   ],
   "source": [
    "sea.select('*', round(maxtf,2).alias('max_temp_F'), round(mintf, 2).alias('min_temp_F')).show(4)"
   ]
  },
  {
   "cell_type": "markdown",
   "metadata": {},
   "source": [
    "## b. Which month has the most rain, on AVERAGE?"
   ]
  },
  {
   "cell_type": "code",
   "execution_count": 61,
   "metadata": {},
   "outputs": [
    {
     "data": {
      "text/plain": [
       "<bound method DataFrame.printSchema of DataFrame[date: string, precipitation: double, temp_max: double, temp_min: double, wind: double, weather: string]>"
      ]
     },
     "execution_count": 61,
     "metadata": {},
     "output_type": "execute_result"
    }
   ],
   "source": [
    "sea.printSchema"
   ]
  },
  {
   "cell_type": "code",
   "execution_count": 57,
   "metadata": {},
   "outputs": [],
   "source": [
    "from pyspark.sql.functions import month, year, quarter"
   ]
  },
  {
   "cell_type": "code",
   "execution_count": 92,
   "metadata": {},
   "outputs": [
    {
     "name": "stdout",
     "output_type": "stream",
     "text": [
      "+-----+------------+\n",
      "|month|avg_rainfall|\n",
      "+-----+------------+\n",
      "|   11|        5.35|\n",
      "+-----+------------+\n",
      "only showing top 1 row\n",
      "\n"
     ]
    }
   ],
   "source": [
    "(sea.withColumn(\"month\", month(\"date\"))\n",
    ".groupBy(\"month\")\n",
    ".agg(round(mean(\"precipitation\"), 2).alias(\"avg_rainfall\"))\n",
    ".sort(desc(\"avg_rainfall\"))\n",
    ".show(1))"
   ]
  },
  {
   "cell_type": "code",
   "execution_count": 75,
   "metadata": {},
   "outputs": [],
   "source": [
    "rain_df = (sea.withColumn(\"month\", month(\"date\"))\n",
    ".groupBy(\"month\")\n",
    ".agg(round(sum(\"precipitation\"), 2).alias(\"total_rainfall\"))\n",
    ".sort(\"month\")\n",
    ")"
   ]
  },
  {
   "cell_type": "code",
   "execution_count": 90,
   "metadata": {},
   "outputs": [
    {
     "name": "stdout",
     "output_type": "stream",
     "text": [
      "+-----+--------------+\n",
      "|month|total_rainfall|\n",
      "+-----+--------------+\n",
      "|   11|         642.5|\n",
      "+-----+--------------+\n",
      "only showing top 1 row\n",
      "\n"
     ]
    }
   ],
   "source": [
    "rain_df.sort(desc('total_rainfall')).show(1)"
   ]
  },
  {
   "cell_type": "markdown",
   "metadata": {},
   "source": [
    "## c. Which year was the windiest?"
   ]
  },
  {
   "cell_type": "code",
   "execution_count": 145,
   "metadata": {},
   "outputs": [
    {
     "name": "stdout",
     "output_type": "stream",
     "text": [
      "+----+-------------+\n",
      "|year|avg_windspeed|\n",
      "+----+-------------+\n",
      "|   2|         3.79|\n",
      "+----+-------------+\n",
      "only showing top 1 row\n",
      "\n"
     ]
    }
   ],
   "source": [
    "(sea.withColumn(\"year\", month(\"date\"))\n",
    ".groupBy(\"year\")\n",
    ".agg(round(mean(\"wind\"), 2).alias(\"avg_windspeed\"))\n",
    ".sort(desc(\"avg_windspeed\"))\n",
    ".show(1)\n",
    ")"
   ]
  },
  {
   "cell_type": "code",
   "execution_count": 94,
   "metadata": {},
   "outputs": [
    {
     "name": "stdout",
     "output_type": "stream",
     "text": [
      "+-----+-------------+\n",
      "|month|avg_windspeed|\n",
      "+-----+-------------+\n",
      "|    2|         3.79|\n",
      "+-----+-------------+\n",
      "only showing top 1 row\n",
      "\n"
     ]
    }
   ],
   "source": [
    "(sea.withColumn(\"month\", month(\"date\"))\n",
    ".groupBy(\"month\")\n",
    ".agg(round(mean(\"wind\"), 2).alias(\"avg_windspeed\"))\n",
    ".sort(desc(\"avg_windspeed\"))\n",
    ".show(1)\n",
    ")"
   ]
  },
  {
   "cell_type": "code",
   "execution_count": 96,
   "metadata": {},
   "outputs": [],
   "source": [
    "wind_df = (sea.withColumn(\"month\", month(\"date\"))\n",
    ".groupBy(\"month\")\n",
    ".agg(round(mean(\"wind\"), 2).alias(\"avg_windspeed\"))\n",
    ".sort(\"month\")\n",
    ")"
   ]
  },
  {
   "cell_type": "code",
   "execution_count": 97,
   "metadata": {},
   "outputs": [
    {
     "name": "stdout",
     "output_type": "stream",
     "text": [
      "+-----+-------------+\n",
      "|month|avg_windspeed|\n",
      "+-----+-------------+\n",
      "|    2|         3.79|\n",
      "+-----+-------------+\n",
      "only showing top 1 row\n",
      "\n"
     ]
    }
   ],
   "source": [
    "wind_df.sort(desc('avg_windspeed')).show(1)"
   ]
  },
  {
   "cell_type": "markdown",
   "metadata": {},
   "source": [
    "## d. What is the most frequent type of weather in January?"
   ]
  },
  {
   "cell_type": "code",
   "execution_count": 104,
   "metadata": {},
   "outputs": [
    {
     "name": "stdout",
     "output_type": "stream",
     "text": [
      "+----------+-------------+--------+--------+----+-------+-----+\n",
      "|      date|precipitation|temp_max|temp_min|wind|weather|month|\n",
      "+----------+-------------+--------+--------+----+-------+-----+\n",
      "|2012-01-01|          0.0|    12.8|     5.0| 4.7|drizzle|   01|\n",
      "|2012-01-02|         10.9|    10.6|     2.8| 4.5|   rain|   01|\n",
      "|2012-01-03|          0.8|    11.7|     7.2| 2.3|   rain|   01|\n",
      "|2012-01-04|         20.3|    12.2|     5.6| 4.7|   rain|   01|\n",
      "|2012-01-05|          1.3|     8.9|     2.8| 6.1|   rain|   01|\n",
      "|2012-01-06|          2.5|     4.4|     2.2| 2.2|   rain|   01|\n",
      "|2012-01-07|          0.0|     7.2|     2.8| 2.3|   rain|   01|\n",
      "|2012-01-08|          0.0|    10.0|     2.8| 2.0|    sun|   01|\n",
      "|2012-01-09|          4.3|     9.4|     5.0| 3.4|   rain|   01|\n",
      "|2012-01-10|          1.0|     6.1|     0.6| 3.4|   rain|   01|\n",
      "|2012-01-11|          0.0|     6.1|    -1.1| 5.1|    sun|   01|\n",
      "|2012-01-12|          0.0|     6.1|    -1.7| 1.9|    sun|   01|\n",
      "|2012-01-13|          0.0|     5.0|    -2.8| 1.3|    sun|   01|\n",
      "|2012-01-14|          4.1|     4.4|     0.6| 5.3|   snow|   01|\n",
      "|2012-01-15|          5.3|     1.1|    -3.3| 3.2|   snow|   01|\n",
      "|2012-01-16|          2.5|     1.7|    -2.8| 5.0|   snow|   01|\n",
      "|2012-01-17|          8.1|     3.3|     0.0| 5.6|   snow|   01|\n",
      "|2012-01-18|         19.8|     0.0|    -2.8| 5.0|   snow|   01|\n",
      "|2012-01-19|         15.2|    -1.1|    -2.8| 1.6|   snow|   01|\n",
      "|2012-01-20|         13.5|     7.2|    -1.1| 2.3|   snow|   01|\n",
      "+----------+-------------+--------+--------+----+-------+-----+\n",
      "only showing top 20 rows\n",
      "\n"
     ]
    }
   ],
   "source": [
    "sea.select('*', substring('date', 6, 2).alias('month')).show()"
   ]
  },
  {
   "cell_type": "code",
   "execution_count": 105,
   "metadata": {},
   "outputs": [],
   "source": [
    "sea = sea.select('*', substring('date', 6, 2).alias('month'))"
   ]
  },
  {
   "cell_type": "code",
   "execution_count": 115,
   "metadata": {},
   "outputs": [
    {
     "name": "stdout",
     "output_type": "stream",
     "text": [
      "+-------------+---+---+---+---+---+---+---+---+---+---+---+---+\n",
      "|weather_month| 01| 02| 03| 04| 05| 06| 07| 08| 09| 10| 11| 12|\n",
      "+-------------+---+---+---+---+---+---+---+---+---+---+---+---+\n",
      "|         snow|  8|  3|  6|  1|  0|  0|  0|  0|  0|  0|  0|  5|\n",
      "|          fog| 38| 36| 36| 34| 25| 14| 13| 16| 40| 55| 50| 54|\n",
      "|          sun| 33| 30| 42| 61| 82| 85| 89| 94| 71| 45| 42| 40|\n",
      "|         rain| 35| 40| 37| 20| 16| 19| 14|  6|  4| 20| 25| 23|\n",
      "|      drizzle| 10|  4|  3|  4|  1|  2|  8|  8|  5|  4|  3|  2|\n",
      "+-------------+---+---+---+---+---+---+---+---+---+---+---+---+\n",
      "\n"
     ]
    }
   ],
   "source": [
    "sea.crosstab('weather', 'month').show()"
   ]
  },
  {
   "cell_type": "code",
   "execution_count": 118,
   "metadata": {},
   "outputs": [
    {
     "name": "stdout",
     "output_type": "stream",
     "text": [
      "+-------------+---+\n",
      "|weather_month| 01|\n",
      "+-------------+---+\n",
      "|         snow|  8|\n",
      "|          fog| 38|\n",
      "|          sun| 33|\n",
      "|         rain| 35|\n",
      "|      drizzle| 10|\n",
      "+-------------+---+\n",
      "\n"
     ]
    }
   ],
   "source": [
    "sea.filter(sea.month == '01').crosstab('weather', 'month').show()"
   ]
  },
  {
   "cell_type": "code",
   "execution_count": 117,
   "metadata": {},
   "outputs": [
    {
     "name": "stdout",
     "output_type": "stream",
     "text": [
      "+-------------+---+\n",
      "|weather_month| 01|\n",
      "+-------------+---+\n",
      "|          fog| 38|\n",
      "|         rain| 35|\n",
      "|          sun| 33|\n",
      "|      drizzle| 10|\n",
      "|         snow|  8|\n",
      "+-------------+---+\n",
      "\n"
     ]
    }
   ],
   "source": [
    "sea.filter(sea.month == '01').crosstab('weather', 'month').sort(desc('01')).show()"
   ]
  },
  {
   "cell_type": "code",
   "execution_count": 119,
   "metadata": {},
   "outputs": [
    {
     "name": "stdout",
     "output_type": "stream",
     "text": [
      "+-------------+---+\n",
      "|weather_month| 01|\n",
      "+-------------+---+\n",
      "|          fog| 38|\n",
      "+-------------+---+\n",
      "only showing top 1 row\n",
      "\n"
     ]
    }
   ],
   "source": [
    "sea.filter(sea.month == '01').crosstab('weather', 'month').sort(desc('01')).show(1)"
   ]
  },
  {
   "cell_type": "markdown",
   "metadata": {},
   "source": [
    "## e. What is the average high and low temperature on sunny days in July in 2013 and 2014?"
   ]
  },
  {
   "cell_type": "code",
   "execution_count": 121,
   "metadata": {},
   "outputs": [
    {
     "name": "stdout",
     "output_type": "stream",
     "text": [
      "+----------+-------------+--------+--------+----+-------+-----+----+\n",
      "|      date|precipitation|temp_max|temp_min|wind|weather|month|year|\n",
      "+----------+-------------+--------+--------+----+-------+-----+----+\n",
      "|2012-01-01|          0.0|    12.8|     5.0| 4.7|drizzle|   01|2012|\n",
      "|2012-01-02|         10.9|    10.6|     2.8| 4.5|   rain|   01|2012|\n",
      "|2012-01-03|          0.8|    11.7|     7.2| 2.3|   rain|   01|2012|\n",
      "|2012-01-04|         20.3|    12.2|     5.6| 4.7|   rain|   01|2012|\n",
      "|2012-01-05|          1.3|     8.9|     2.8| 6.1|   rain|   01|2012|\n",
      "|2012-01-06|          2.5|     4.4|     2.2| 2.2|   rain|   01|2012|\n",
      "|2012-01-07|          0.0|     7.2|     2.8| 2.3|   rain|   01|2012|\n",
      "|2012-01-08|          0.0|    10.0|     2.8| 2.0|    sun|   01|2012|\n",
      "|2012-01-09|          4.3|     9.4|     5.0| 3.4|   rain|   01|2012|\n",
      "|2012-01-10|          1.0|     6.1|     0.6| 3.4|   rain|   01|2012|\n",
      "|2012-01-11|          0.0|     6.1|    -1.1| 5.1|    sun|   01|2012|\n",
      "|2012-01-12|          0.0|     6.1|    -1.7| 1.9|    sun|   01|2012|\n",
      "|2012-01-13|          0.0|     5.0|    -2.8| 1.3|    sun|   01|2012|\n",
      "|2012-01-14|          4.1|     4.4|     0.6| 5.3|   snow|   01|2012|\n",
      "|2012-01-15|          5.3|     1.1|    -3.3| 3.2|   snow|   01|2012|\n",
      "|2012-01-16|          2.5|     1.7|    -2.8| 5.0|   snow|   01|2012|\n",
      "|2012-01-17|          8.1|     3.3|     0.0| 5.6|   snow|   01|2012|\n",
      "|2012-01-18|         19.8|     0.0|    -2.8| 5.0|   snow|   01|2012|\n",
      "|2012-01-19|         15.2|    -1.1|    -2.8| 1.6|   snow|   01|2012|\n",
      "|2012-01-20|         13.5|     7.2|    -1.1| 2.3|   snow|   01|2012|\n",
      "+----------+-------------+--------+--------+----+-------+-----+----+\n",
      "only showing top 20 rows\n",
      "\n"
     ]
    }
   ],
   "source": [
    "sea.select('*', substring('date', 1, 4).alias('year')).show()"
   ]
  },
  {
   "cell_type": "code",
   "execution_count": 122,
   "metadata": {},
   "outputs": [],
   "source": [
    "sea = sea.select('*', substring('date', 1, 4).alias('year'))"
   ]
  },
  {
   "cell_type": "code",
   "execution_count": 125,
   "metadata": {},
   "outputs": [
    {
     "name": "stdout",
     "output_type": "stream",
     "text": [
      "+----------+-------------+--------+--------+----+-------+-----+----+\n",
      "|      date|precipitation|temp_max|temp_min|wind|weather|month|year|\n",
      "+----------+-------------+--------+--------+----+-------+-----+----+\n",
      "|2012-07-01|          0.0|    20.0|    12.2| 2.3|   rain|   07|2012|\n",
      "|2012-07-02|          2.0|    18.9|    11.7| 2.1|   rain|   07|2012|\n",
      "|2012-07-03|          5.8|    18.3|    10.6| 6.0|   rain|   07|2012|\n",
      "|2012-07-04|          0.0|    20.6|     9.4| 3.8|    sun|   07|2012|\n",
      "|2012-07-05|          0.0|    24.4|    10.6| 3.1|drizzle|   07|2012|\n",
      "|2012-07-06|          0.0|    25.0|    11.1| 2.1|    sun|   07|2012|\n",
      "|2012-07-07|          0.0|    26.7|    12.8| 3.8|    sun|   07|2012|\n",
      "|2012-07-08|          0.0|    28.3|    14.4| 2.8|   rain|   07|2012|\n",
      "|2012-07-09|          1.5|    25.0|    12.8| 2.0|   rain|   07|2012|\n",
      "|2012-07-10|          0.0|    23.9|    11.1| 2.3|drizzle|   07|2012|\n",
      "|2012-07-11|          0.0|    27.8|    13.3| 2.9|    fog|   07|2012|\n",
      "|2012-07-12|          0.0|    25.6|    13.3| 2.7|drizzle|   07|2012|\n",
      "|2012-07-13|          0.5|    23.3|    13.9| 2.2|   rain|   07|2012|\n",
      "|2012-07-14|          0.0|    25.0|    15.0| 2.2|   rain|   07|2012|\n",
      "|2012-07-15|          0.0|    18.9|    13.3| 3.8|   rain|   07|2012|\n",
      "|2012-07-16|          0.3|    26.1|    13.3| 2.5|   rain|   07|2012|\n",
      "|2012-07-17|          0.0|    21.7|    15.0| 2.6|    sun|   07|2012|\n",
      "|2012-07-18|          0.0|    21.1|    14.4| 2.9|    sun|   07|2012|\n",
      "|2012-07-19|          0.0|    25.0|    14.4| 2.2|    sun|   07|2012|\n",
      "|2012-07-20|         15.2|    19.4|    13.9| 4.0|   rain|   07|2012|\n",
      "+----------+-------------+--------+--------+----+-------+-----+----+\n",
      "only showing top 20 rows\n",
      "\n"
     ]
    }
   ],
   "source": [
    "sea.filter(sea.month == \"07\").show()"
   ]
  },
  {
   "cell_type": "code",
   "execution_count": 130,
   "metadata": {},
   "outputs": [
    {
     "name": "stdout",
     "output_type": "stream",
     "text": [
      "+----------+-------------+--------+--------+----+-------+-----+----+\n",
      "|      date|precipitation|temp_max|temp_min|wind|weather|month|year|\n",
      "+----------+-------------+--------+--------+----+-------+-----+----+\n",
      "|2012-07-04|          0.0|    20.6|     9.4| 3.8|    sun|   07|2012|\n",
      "|2012-07-06|          0.0|    25.0|    11.1| 2.1|    sun|   07|2012|\n",
      "|2012-07-07|          0.0|    26.7|    12.8| 3.8|    sun|   07|2012|\n",
      "|2012-07-17|          0.0|    21.7|    15.0| 2.6|    sun|   07|2012|\n",
      "|2012-07-18|          0.0|    21.1|    14.4| 2.9|    sun|   07|2012|\n",
      "|2012-07-19|          0.0|    25.0|    14.4| 2.2|    sun|   07|2012|\n",
      "|2012-07-21|          0.0|    23.9|    13.9| 2.3|    sun|   07|2012|\n",
      "|2012-07-24|          0.0|    23.3|    12.2| 4.3|    sun|   07|2012|\n",
      "|2012-07-25|          0.0|    26.7|    12.8| 2.6|    sun|   07|2012|\n",
      "|2012-07-29|          0.0|    22.8|    15.0| 2.0|    sun|   07|2012|\n",
      "|2012-07-30|          0.0|    19.4|    13.3| 3.0|    sun|   07|2012|\n",
      "|2012-07-31|          0.0|    22.8|    13.9| 2.8|    sun|   07|2012|\n",
      "|2013-07-01|          0.0|    31.7|    18.3| 2.3|    sun|   07|2013|\n",
      "|2013-07-02|          0.0|    28.3|    15.6| 3.0|    sun|   07|2013|\n",
      "|2013-07-03|          0.0|    26.1|    16.7| 3.2|    sun|   07|2013|\n",
      "|2013-07-05|          0.0|    23.3|    13.9| 2.6|    sun|   07|2013|\n",
      "|2013-07-06|          0.0|    26.1|    13.3| 2.2|    sun|   07|2013|\n",
      "|2013-07-07|          0.0|    23.9|    13.9| 2.9|    sun|   07|2013|\n",
      "|2013-07-08|          0.0|    26.7|    13.3| 2.8|    sun|   07|2013|\n",
      "|2013-07-09|          0.0|    30.0|    15.0| 2.5|    sun|   07|2013|\n",
      "+----------+-------------+--------+--------+----+-------+-----+----+\n",
      "only showing top 20 rows\n",
      "\n"
     ]
    }
   ],
   "source": [
    "sea.filter(sea.month == \"07\").where(sea.weather == \"sun\").show()"
   ]
  },
  {
   "cell_type": "code",
   "execution_count": 131,
   "metadata": {},
   "outputs": [
    {
     "name": "stdout",
     "output_type": "stream",
     "text": [
      "+----------+-------------+--------+--------+----+-------+-----+----+\n",
      "|      date|precipitation|temp_max|temp_min|wind|weather|month|year|\n",
      "+----------+-------------+--------+--------+----+-------+-----+----+\n",
      "|2013-07-01|          0.0|    31.7|    18.3| 2.3|    sun|   07|2013|\n",
      "|2013-07-02|          0.0|    28.3|    15.6| 3.0|    sun|   07|2013|\n",
      "|2013-07-03|          0.0|    26.1|    16.7| 3.2|    sun|   07|2013|\n",
      "|2013-07-05|          0.0|    23.3|    13.9| 2.6|    sun|   07|2013|\n",
      "|2013-07-06|          0.0|    26.1|    13.3| 2.2|    sun|   07|2013|\n",
      "|2013-07-07|          0.0|    23.9|    13.9| 2.9|    sun|   07|2013|\n",
      "|2013-07-08|          0.0|    26.7|    13.3| 2.8|    sun|   07|2013|\n",
      "|2013-07-09|          0.0|    30.0|    15.0| 2.5|    sun|   07|2013|\n",
      "|2013-07-10|          0.0|    22.2|    13.9| 2.6|    sun|   07|2013|\n",
      "|2013-07-11|          0.0|    22.8|    12.2| 3.0|    sun|   07|2013|\n",
      "|2013-07-12|          0.0|    19.4|    13.3| 2.2|    sun|   07|2013|\n",
      "|2013-07-13|          0.0|    26.1|    11.1| 3.1|    sun|   07|2013|\n",
      "|2013-07-14|          0.0|    27.8|    12.8| 3.0|    sun|   07|2013|\n",
      "|2013-07-15|          0.0|    27.8|    14.4| 4.6|    sun|   07|2013|\n",
      "|2013-07-16|          0.0|    31.1|    18.3| 4.1|    sun|   07|2013|\n",
      "|2013-07-18|          0.0|    26.1|    13.9| 2.0|    sun|   07|2013|\n",
      "|2013-07-19|          0.0|    27.8|    13.3| 1.9|    sun|   07|2013|\n",
      "|2013-07-20|          0.0|    25.0|    13.3| 2.0|    sun|   07|2013|\n",
      "|2013-07-21|          0.0|    23.9|    12.8| 2.3|    sun|   07|2013|\n",
      "|2013-07-23|          0.0|    31.1|    13.9| 3.0|    sun|   07|2013|\n",
      "+----------+-------------+--------+--------+----+-------+-----+----+\n",
      "only showing top 20 rows\n",
      "\n"
     ]
    }
   ],
   "source": [
    "(sea.filter(sea.month == \"07\")\n",
    ".where(sea.weather == \"sun\")\n",
    ".where((sea.year == \"2013\") | (sea.year == \"2014\"))\n",
    ".show())"
   ]
  },
  {
   "cell_type": "code",
   "execution_count": 137,
   "metadata": {},
   "outputs": [
    {
     "name": "stdout",
     "output_type": "stream",
     "text": [
      "+----+-----------------------+\n",
      "|year|avg_max_temp_sunny_july|\n",
      "+----+-----------------------+\n",
      "|2014|                  27.09|\n",
      "|2013|                  26.59|\n",
      "+----+-----------------------+\n",
      "\n"
     ]
    }
   ],
   "source": [
    "(sea.filter(sea.month == \"07\")\n",
    ".where(sea.weather == \"sun\")\n",
    ".where((sea.year == \"2013\") | (sea.year == \"2014\"))\n",
    ".groupBy('year').agg(round(mean('temp_max'), 2).alias('avg_max_temp_sunny_july'))\n",
    ".show())"
   ]
  },
  {
   "cell_type": "code",
   "execution_count": 139,
   "metadata": {},
   "outputs": [],
   "source": [
    "maxtemp7 = (sea.filter(sea.month == \"07\")\n",
    ".where(sea.weather == \"sun\")\n",
    ".where((sea.year == \"2013\") | (sea.year == \"2014\"))\n",
    ".groupBy('year').agg(round(mean('temp_max'), 2).alias('avg_max_temp_sunny_july'))\n",
    ")"
   ]
  },
  {
   "cell_type": "code",
   "execution_count": 138,
   "metadata": {},
   "outputs": [
    {
     "name": "stdout",
     "output_type": "stream",
     "text": [
      "+----+-----------------------+\n",
      "|year|avg_min_temp_sunny_july|\n",
      "+----+-----------------------+\n",
      "|2014|                   14.4|\n",
      "|2013|                  13.98|\n",
      "+----+-----------------------+\n",
      "\n"
     ]
    }
   ],
   "source": [
    "(sea.filter(sea.month == \"07\")\n",
    ".where(sea.weather == \"sun\")\n",
    ".where((sea.year == \"2013\") | (sea.year == \"2014\"))\n",
    ".groupBy('year').agg(round(mean('temp_min'), 2).alias('avg_min_temp_sunny_july'))\n",
    ".show())"
   ]
  },
  {
   "cell_type": "code",
   "execution_count": 140,
   "metadata": {},
   "outputs": [],
   "source": [
    "mintemp7 = (sea.filter(sea.month == \"07\")\n",
    ".where(sea.weather == \"sun\")\n",
    ".where((sea.year == \"2013\") | (sea.year == \"2014\"))\n",
    ".groupBy('year').agg(round(mean('temp_min'), 2).alias('avg_min_temp_sunny_july'))\n",
    ")"
   ]
  },
  {
   "cell_type": "code",
   "execution_count": 144,
   "metadata": {},
   "outputs": [
    {
     "name": "stdout",
     "output_type": "stream",
     "text": [
      "+----+-----------------------+-----------------------+\n",
      "|year|avg_min_temp_sunny_july|avg_max_temp_sunny_july|\n",
      "+----+-----------------------+-----------------------+\n",
      "|2014|                   14.4|                  27.09|\n",
      "|2013|                  13.98|                  26.59|\n",
      "+----+-----------------------+-----------------------+\n",
      "\n"
     ]
    }
   ],
   "source": [
    "mintemp7.join(maxtemp7, on='year').show()"
   ]
  },
  {
   "cell_type": "markdown",
   "metadata": {},
   "source": [
    "## f. What percentage of days were rainy in q3 of 2015?"
   ]
  },
  {
   "cell_type": "code",
   "execution_count": 149,
   "metadata": {},
   "outputs": [
    {
     "name": "stdout",
     "output_type": "stream",
     "text": [
      "+----------+-------------+--------+--------+----+-------+-----+----+\n",
      "|      date|precipitation|temp_max|temp_min|wind|weather|month|year|\n",
      "+----------+-------------+--------+--------+----+-------+-----+----+\n",
      "|2015-01-18|         21.3|    13.9|     7.2| 6.6|   rain|   01|2015|\n",
      "|2015-04-01|          5.1|    12.8|     5.6| 3.2|   rain|   04|2015|\n",
      "|2015-06-15|          0.0|    30.0|    16.1| 3.5|drizzle|   06|2015|\n",
      "|2015-07-06|          0.0|    29.4|    15.6| 3.2|drizzle|   07|2015|\n",
      "|2015-07-08|          0.0|    30.0|    14.4| 1.9|drizzle|   07|2015|\n",
      "|2015-08-12|          7.6|    28.3|    16.7| 2.7|   rain|   08|2015|\n",
      "|2015-08-14|         30.5|    18.3|    15.0| 5.2|   rain|   08|2015|\n",
      "|2015-08-19|          0.0|    31.7|    16.1| 2.1|drizzle|   08|2015|\n",
      "|2015-08-22|          0.0|    26.7|    12.2| 2.5|drizzle|   08|2015|\n",
      "|2015-08-23|          0.0|    27.8|    13.9| 1.8|drizzle|   08|2015|\n",
      "|2015-10-06|          0.0|    18.3|    10.0| 2.6|drizzle|   10|2015|\n",
      "|2015-10-25|          8.9|    19.4|     8.9| 3.4|   rain|   10|2015|\n",
      "+----------+-------------+--------+--------+----+-------+-----+----+\n",
      "\n"
     ]
    }
   ],
   "source": [
    "(sea.filter(sea.year == \"2015\")\n",
    ".where((sea.weather == \"rain\") | (sea.weather == \"drizzle\"))\n",
    ".show())"
   ]
  },
  {
   "cell_type": "code",
   "execution_count": 152,
   "metadata": {},
   "outputs": [
    {
     "name": "stdout",
     "output_type": "stream",
     "text": [
      "+------------+----+\n",
      "|quarter_year|2015|\n",
      "+------------+----+\n",
      "|           1|  90|\n",
      "|           2|  91|\n",
      "|           3|  92|\n",
      "|           4|  92|\n",
      "+------------+----+\n",
      "\n"
     ]
    }
   ],
   "source": [
    "(sea.filter(sea.year == \"2015\")\n",
    ".withColumn(\"quarter\", quarter(\"date\"))\n",
    ".crosstab(\"quarter\", \"year\")\n",
    ".sort(\"quarter_year\")\n",
    ".show())"
   ]
  },
  {
   "cell_type": "code",
   "execution_count": 153,
   "metadata": {},
   "outputs": [],
   "source": [
    "quarters15 = (sea.filter(sea.year == \"2015\")\n",
    ".withColumn(\"quarter\", quarter(\"date\"))\n",
    ".crosstab(\"quarter\", \"year\")\n",
    ".sort(\"quarter_year\")\n",
    ")"
   ]
  },
  {
   "cell_type": "code",
   "execution_count": 156,
   "metadata": {},
   "outputs": [
    {
     "data": {
      "text/plain": [
       "365"
      ]
     },
     "execution_count": 156,
     "metadata": {},
     "output_type": "execute_result"
    }
   ],
   "source": [
    "(sea.filter(sea.year == \"2015\")).count()"
   ]
  },
  {
   "cell_type": "code",
   "execution_count": 158,
   "metadata": {},
   "outputs": [
    {
     "ename": "TypeError",
     "evalue": "'Column' object is not callable",
     "output_type": "error",
     "traceback": [
      "\u001b[0;31m---------------------------------------------------------------------------\u001b[0m",
      "\u001b[0;31mTypeError\u001b[0m                                 Traceback (most recent call last)",
      "\u001b[0;32m<ipython-input-158-b23fd7d588f7>\u001b[0m in \u001b[0;36m<module>\u001b[0;34m\u001b[0m\n\u001b[0;32m----> 1\u001b[0;31m \u001b[0;34m(\u001b[0m\u001b[0mquarters15\u001b[0m\u001b[0;34m[\u001b[0m\u001b[0;34m'2015'\u001b[0m\u001b[0;34m]\u001b[0m \u001b[0;34m/\u001b[0m \u001b[0;34m(\u001b[0m\u001b[0msea\u001b[0m\u001b[0;34m.\u001b[0m\u001b[0mfilter\u001b[0m\u001b[0;34m(\u001b[0m\u001b[0msea\u001b[0m\u001b[0;34m.\u001b[0m\u001b[0myear\u001b[0m \u001b[0;34m==\u001b[0m \u001b[0;34m\"2015\"\u001b[0m\u001b[0;34m)\u001b[0m\u001b[0;34m)\u001b[0m\u001b[0;34m.\u001b[0m\u001b[0mcount\u001b[0m\u001b[0;34m(\u001b[0m\u001b[0;34m)\u001b[0m\u001b[0;34m)\u001b[0m\u001b[0;34m.\u001b[0m\u001b[0mshow\u001b[0m\u001b[0;34m(\u001b[0m\u001b[0;34m)\u001b[0m\u001b[0;34m\u001b[0m\u001b[0;34m\u001b[0m\u001b[0m\n\u001b[0m",
      "\u001b[0;31mTypeError\u001b[0m: 'Column' object is not callable"
     ]
    }
   ],
   "source": [
    "(quarters15['2015'] / (sea.filter(sea.year == \"2015\")).count()).show()"
   ]
  },
  {
   "cell_type": "code",
   "execution_count": null,
   "metadata": {},
   "outputs": [],
   "source": [
    "quarters15.select()"
   ]
  },
  {
   "cell_type": "code",
   "execution_count": null,
   "metadata": {},
   "outputs": [],
   "source": []
  },
  {
   "cell_type": "code",
   "execution_count": null,
   "metadata": {},
   "outputs": [],
   "source": []
  },
  {
   "cell_type": "markdown",
   "metadata": {},
   "source": [
    "## g. For each year, find what percentage of days it rained (had non-zero precipitation)."
   ]
  },
  {
   "cell_type": "code",
   "execution_count": null,
   "metadata": {},
   "outputs": [],
   "source": []
  }
 ],
 "metadata": {
  "kernelspec": {
   "display_name": "Python 3",
   "language": "python",
   "name": "python3"
  },
  "language_info": {
   "codemirror_mode": {
    "name": "ipython",
    "version": 3
   },
   "file_extension": ".py",
   "mimetype": "text/x-python",
   "name": "python",
   "nbconvert_exporter": "python",
   "pygments_lexer": "ipython3",
   "version": "3.8.5"
  }
 },
 "nbformat": 4,
 "nbformat_minor": 4
}
